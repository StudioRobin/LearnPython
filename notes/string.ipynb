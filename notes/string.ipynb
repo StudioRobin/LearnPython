{
 "cells": [
  {
   "cell_type": "markdown",
   "metadata": {},
   "source": [
    "# Syntax\n",
    "\n",
    "Commenting code\n",
    "\n",
    "```py\n",
    "# this is the first comment\n",
    "spam = 1  # and this is the second comment\n",
    "          # ... and now a third!\n",
    "text = \"# This is not a comment because it's inside quotes.\"\n",
    "```\n",
    "\n",
    "escape\n",
    "\n",
    "To quote a quote, we need to “escape” it, by preceding it with \\\n",
    "\n",
    "```py\n",
    "'doesn\\'t'  # use \\' to escape the single quote...\n",
    "\n",
    "\"doesn't\"  # ...or use double quotes instead\n",
    "\n",
    "'\"Yes,\" they said.'\n",
    "\n",
    "\"\\\"Yes,\\\" they said.\"\n",
    "\n",
    "'\"Isn\\'t,\" they said.'\n",
    "\n",
    "```\n",
    "\n",
    "new line `'\\r'`\n",
    "\n",
    "```py\n",
    "s = 'First line.\\nSecond line.'  # \\n means newline\n",
    "s  # without print(), special characters are included in the string\n",
    "\n",
    "print(s)  # with print(), special characters are interpreted, so \\n produces new line\n",
    "```\n",
    "\n",
    "By default, print funtion will append a new line. if print function is in a loop, `print(s, end=' ')` can cancatenate the string in a line.\n",
    "\n",
    "raw string `r\"...\"`\n",
    "Often is useful for path.\n",
    "\n",
    "```py\n",
    "print('C:\\some\\name')  # here \\n means newline!\n",
    "print(r'C:\\some\\name')  # note the r before the quote\n",
    "```\n",
    "\n",
    "formatted string `f\"{param1}, {param2}...\"`\n",
    "\n"
   ]
  },
  {
   "cell_type": "code",
   "execution_count": 4,
   "metadata": {},
   "outputs": [
    {
     "name": "stdout",
     "output_type": "stream",
     "text": [
      "a is 1 years old.\n",
      "a is 1 years old.\n",
      "a is 1 years old.\n",
      "a is 1 years old.\n"
     ]
    }
   ],
   "source": [
    "name = input(\"what's your name? \")\n",
    "age = int(input(\"how old are you? \"))\n",
    "print(name + ' is ' + str(age) + ' years old.')\n",
    "print(name, 'is', age, 'years old.') # print() function is very versatile\n",
    "print(f\"{name} is {age} years old.\") # Using F-strings for Formatted Output\n",
    "message = \"{} is {} years old.\".format(name, age) # format a string\n",
    "print(message)"
   ]
  },
  {
   "cell_type": "markdown",
   "metadata": {},
   "source": [
    "String literals can span multiple lines. One way is using triple-quotes: \"\"\"...\"\"\" or '''...'''. End of lines are automatically included in the string, but it’s possible to prevent this by adding a \\ at the end of the line. The following example:"
   ]
  },
  {
   "cell_type": "code",
   "execution_count": 1,
   "metadata": {},
   "outputs": [
    {
     "name": "stdout",
     "output_type": "stream",
     "text": [
      "Usage: thingy [OPTIONS]\n",
      "     -h                        Display this usage message\n",
      "     -H hostname               Hostname to connect to\n",
      "\n"
     ]
    }
   ],
   "source": [
    "print(\"\"\"\\\n",
    "Usage: thingy [OPTIONS]\n",
    "     -h                        Display this usage message\n",
    "     -H hostname               Hostname to connect to\n",
    "\"\"\")"
   ]
  },
  {
   "cell_type": "markdown",
   "metadata": {},
   "source": [
    "In Python, you can concatenate strings using the `+` operator or the `+=` operator. Here are a few examples:\n",
    "\n",
    "```python\n",
    "# Using the + operator\n",
    "str1 = \"Hello\"\n",
    "str2 = \"World\"\n",
    "result = str1 + \" \" + str2\n",
    "print(result)  # Output: Hello World\n",
    "\n",
    "# Using the += operator\n",
    "str3 = \"I\"\n",
    "str3 += \" love\"\n",
    "str3 += \" Python\"\n",
    "print(str3)  # Output: I love Python\n",
    "\n",
    "# Concatenating multiple strings\n",
    "str4 = \"This\" + \" is\" + \" a\" + \" sentence.\"\n",
    "print(str4)  # Output: This is a sentence.\n",
    "```\n",
    "\n",
    "Two or more string literals (i.e. the ones enclosed between quotes) next to each other are automatically concatenated.\n",
    "\n",
    "```py\n",
    "str1 = 'Py' 'thon' # 'Python'\n",
    "# This feature is particularly useful when you want to break long strings:\n",
    "text = ('Put several strings within parentheses '\n",
    "        'to have them joined together.')\n",
    "# This only works with two literals though, not with variables or expressions.\n",
    "```"
   ]
  }
 ],
 "metadata": {
  "kernelspec": {
   "display_name": ".venv",
   "language": "python",
   "name": "python3"
  },
  "language_info": {
   "codemirror_mode": {
    "name": "ipython",
    "version": 3
   },
   "file_extension": ".py",
   "mimetype": "text/x-python",
   "name": "python",
   "nbconvert_exporter": "python",
   "pygments_lexer": "ipython3",
   "version": "3.8.6"
  }
 },
 "nbformat": 4,
 "nbformat_minor": 2
}
