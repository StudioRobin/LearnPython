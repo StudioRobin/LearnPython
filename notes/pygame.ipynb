{
 "cells": [
  {
   "cell_type": "markdown",
   "metadata": {},
   "source": [
    "# pygame\n",
    "\n"
   ]
  },
  {
   "cell_type": "markdown",
   "metadata": {},
   "source": [
    "## Key events\n"
   ]
  },
  {
   "cell_type": "code",
   "execution_count": 11,
   "metadata": {},
   "outputs": [],
   "source": [
    "# Example file showing a circle moving on screen\n",
    "import pygame\n",
    "\n",
    "# pygame setup\n",
    "pygame.init()\n",
    "screen = pygame.display.set_mode((1280, 720))\n",
    "clock = pygame.time.Clock()\n",
    "running = True\n",
    "dt = 0\n",
    "\n",
    "player_pos = pygame.Vector2(screen.get_width() / 2, screen.get_height() / 2)\n",
    "\n",
    "while running:\n",
    "    # poll for events\n",
    "    # pygame.QUIT event means the user clicked X to close your window\n",
    "    for event in pygame.event.get():\n",
    "        if event.type == pygame.QUIT:\n",
    "            running = False\n",
    "\n",
    "    # fill the screen with a color to wipe away anything from last frame\n",
    "    screen.fill(\"purple\")\n",
    "\n",
    "    pygame.draw.circle(screen, \"yellow\", player_pos, 40)\n",
    "\n",
    "    keys = pygame.key.get_pressed()\n",
    "    if keys[pygame.K_w]:\n",
    "        player_pos.y -= 300 * dt\n",
    "    if keys[pygame.K_s]:\n",
    "        player_pos.y += 300 * dt\n",
    "    if keys[pygame.K_a]:\n",
    "        player_pos.x -= 300 * dt\n",
    "    if keys[pygame.K_d]:\n",
    "        player_pos.x += 300 * dt\n",
    "\n",
    "    # flip() the display to put your work on screen\n",
    "    pygame.display.flip()\n",
    "\n",
    "    # limits FPS to 60\n",
    "    # dt is delta time in seconds since last frame, used for framerate-\n",
    "    # independent physics.\n",
    "    dt = clock.tick(60) / 1000\n",
    "\n",
    "pygame.quit()"
   ]
  },
  {
   "cell_type": "markdown",
   "metadata": {},
   "source": [
    "## Image"
   ]
  },
  {
   "cell_type": "code",
   "execution_count": 9,
   "metadata": {},
   "outputs": [],
   "source": [
    "import pygame\n",
    "pygame.init()\n",
    "\n",
    "size = width, height = 1280, 720\n",
    "speed = [1, 1]\n",
    "black = 0, 0, 0\n",
    "\n",
    "screen = pygame.display.set_mode(size)\n",
    "running = True\n",
    "\n",
    "ball = pygame.image.load(\"images\\\\intro_ball.gif\")\n",
    "ballrect = ball.get_rect()\n",
    "\n",
    "while running:\n",
    "    # poll for events\n",
    "    # pygame.QUIT event means the user clicked X to close your window\n",
    "    for event in pygame.event.get():\n",
    "        if event.type == pygame.QUIT:\n",
    "            running = False\n",
    "    \n",
    "    ballrect = ballrect.move(speed)\n",
    "    if ballrect.left < 0 or ballrect.right > width:\n",
    "        speed[0] = -speed[0]\n",
    "    if ballrect.top < 0 or ballrect.bottom > height:\n",
    "        speed[1] = -speed[1]\n",
    "\n",
    "    screen.fill(black)\n",
    "    screen.blit(ball, ballrect)\n",
    "    pygame.display.flip()\n",
    "\n",
    "pygame.quit()"
   ]
  }
 ],
 "metadata": {
  "kernelspec": {
   "display_name": ".venv",
   "language": "python",
   "name": "python3"
  },
  "language_info": {
   "codemirror_mode": {
    "name": "ipython",
    "version": 3
   },
   "file_extension": ".py",
   "mimetype": "text/x-python",
   "name": "python",
   "nbconvert_exporter": "python",
   "pygments_lexer": "ipython3",
   "version": "3.12.3"
  }
 },
 "nbformat": 4,
 "nbformat_minor": 2
}
