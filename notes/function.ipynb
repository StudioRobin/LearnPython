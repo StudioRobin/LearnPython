{
 "cells": [
  {
   "cell_type": "markdown",
   "metadata": {},
   "source": [
    "# function\n",
    "\n"
   ]
  },
  {
   "cell_type": "code",
   "execution_count": 12,
   "metadata": {},
   "outputs": [
    {
     "name": "stdout",
     "output_type": "stream",
     "text": [
      "Simple Calculator Program\n",
      "1.0 + 1.0 is: 2.0\n"
     ]
    }
   ],
   "source": [
    "# Function to perform addition\n",
    "def add(x, y):\n",
    "    return x + y\n",
    "# Function to perform subtraction\n",
    "def subtract(x, y):\n",
    "    return x - y\n",
    "# Function to perform multiplication\n",
    "def multiply(x, y):\n",
    "    return x * y\n",
    "# Function to perform division\n",
    "def divide(x, y):\n",
    "    if y != 0:\n",
    "        return x / y\n",
    "    else:\n",
    "        return \"Cannot divide by zero\"\n",
    "\n",
    "def calculator():\n",
    "    print(\"Simple Calculator Program\")\n",
    "    # Get user input for numbers\n",
    "    num1 = float(input(\"Enter the first number: \"))\n",
    "    num2 = float(input(\"Enter the second number: \"))\n",
    "    # Get user input for operation\n",
    "    operation = input(\"Choose operation (+, -, *, /): \")\n",
    "    # Perform the selected operation\n",
    "    # the following can be refactored\n",
    "    if operation == '+':\n",
    "        result = add(num1, num2)\n",
    "    elif operation == '-':\n",
    "        result = subtract(num1, num2)\n",
    "    elif operation == '*':\n",
    "        result = multiply(num1, num2)\n",
    "    elif operation == '/':\n",
    "        result = divide(num1, num2)\n",
    "    else:\n",
    "        result = \"Invalid operation\"\n",
    "    # Display the result\n",
    "    print(f\"{num1} {operation} {num2} is: {result}\")\n",
    "\n",
    "calculator()"
   ]
  },
  {
   "cell_type": "code",
   "execution_count": 6,
   "metadata": {},
   "outputs": [
    {
     "name": "stdout",
     "output_type": "stream",
     "text": [
      "Is authenticated True\n"
     ]
    }
   ],
   "source": [
    "\n",
    "def login(username, password):\n",
    "    if username == \"123\" and password == \"abc\":\n",
    "        return(True)\n",
    "    else:\n",
    "        return(False)\n",
    "    \n",
    "username = (input(\"What is the username?\"))\n",
    "password = (input(\"What is the password?\"))\n",
    "isAuthenticated=login(username, password)\n",
    "\n",
    "print(\"Is authenticated\", isAuthenticated)\n",
    "\n",
    "    "
   ]
  },
  {
   "cell_type": "code",
   "execution_count": 14,
   "metadata": {},
   "outputs": [
    {
     "name": "stdout",
     "output_type": "stream",
     "text": [
      "Is True\n"
     ]
    }
   ],
   "source": [
    "def can_vote(age):\n",
    "    if age >= 18:\n",
    "        return(True)\n",
    "    else:\n",
    "        return(False)\n",
    "age = int(input(\"What is your age?\"))\n",
    "isLegible = can_vote(age)\n",
    "print(\"Is\", isLegible)"
   ]
  }
 ],
 "metadata": {
  "kernelspec": {
   "display_name": ".venv",
   "language": "python",
   "name": "python3"
  },
  "language_info": {
   "codemirror_mode": {
    "name": "ipython",
    "version": 3
   },
   "file_extension": ".py",
   "mimetype": "text/x-python",
   "name": "python",
   "nbconvert_exporter": "python",
   "pygments_lexer": "ipython3",
   "version": "3.12.3"
  }
 },
 "nbformat": 4,
 "nbformat_minor": 2
}
