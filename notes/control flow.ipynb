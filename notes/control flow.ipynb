{
 "cells": [
  {
   "cell_type": "markdown",
   "metadata": {},
   "source": []
  },
  {
   "cell_type": "markdown",
   "metadata": {},
   "source": [
    "# if\n"
   ]
  },
  {
   "cell_type": "code",
   "execution_count": 1,
   "metadata": {},
   "outputs": [
    {
     "name": "stdout",
     "output_type": "stream",
     "text": [
      "You are not legible to vote\n",
      "is_game_over True\n",
      "You qualify for the loan.\n",
      "B\n",
      "The student's grade is B.\n"
     ]
    }
   ],
   "source": [
    "# Boolen, True/False, and, or, not\n",
    "# use for: if condition is met, then decision\n",
    "# for complex conditions, predicate functions are functions that return a Boolen\n",
    "x = True\n",
    "y = False\n",
    "result_and = x and y # False\n",
    "result_or = x or y # True\n",
    "result_not = not x # False\n",
    "\n",
    "# Example and\n",
    "is_over18 = False\n",
    "is_citizen = False\n",
    "\n",
    "age = int(input(\"what is your age\"))\n",
    "citizenship = str(input(\"Are you a citizen\"))\n",
    "if age > 18:\n",
    "    is_over18 = True\n",
    "if citizenship == \"yes\":\n",
    "    is_citizen = True\n",
    "can_vote = is_over18 and is_citizen\n",
    "if can_vote:\n",
    "    print(\"You are legible to vote\")\n",
    "else:\n",
    "    print(\"You are not legible to vote\")\n",
    "\n",
    "# Example or\n",
    "is_HP_zero = True\n",
    "is_bed_destroyed = False\n",
    "is_game_over = is_HP_zero or is_bed_destroyed\n",
    "print(\"is_game_over\", is_game_over)\n",
    "\n",
    "# nested if\n",
    "age = 25\n",
    "income = 50000\n",
    "if age >= 18:\n",
    "    if income >= 30000:\n",
    "        print(\"You qualify for the loan.\")\n",
    "    else:\n",
    "        print(\"Insufficient income for the loan.\")\n",
    "else:\n",
    "    print(\"You must be 18 or older to apply for a loan.\")\n",
    "\n",
    "# Comparison ==, !=, >, <, >=, <=\n",
    "# equality value & reference \n",
    "a = 5\n",
    "b = 10\n",
    "isEqual = a == b # False\n",
    "isNotEqual = a != b # True\n",
    "isGreaterThan = a > b # False\n",
    "isLessThanOrEqual = a <= b # True\n",
    "\n",
    "score = 85\n",
    "if score >= 90:\n",
    "    print(\"A\")\n",
    "elif score >= 80:\n",
    "    print(\"B\")\n",
    "else:\n",
    "    print(\"C\")\n",
    "\n",
    "# Grade Calculator\n",
    "def calculate_grade(score):\n",
    "    if 90 <= score <= 100:\n",
    "        return 'A'\n",
    "    elif 80 <= score < 90:\n",
    "        return 'B'\n",
    "    elif 70 <= score < 80:\n",
    "        return 'C'\n",
    "    elif 60 <= score < 70:\n",
    "        return 'D'\n",
    "    else:\n",
    "        return 'F'\n",
    "    \n",
    "grade = calculate_grade(score)\n",
    "print(f\"The student's grade is {grade}.\")"
   ]
  }
 ],
 "metadata": {
  "kernelspec": {
   "display_name": ".venv",
   "language": "python",
   "name": "python3"
  },
  "language_info": {
   "codemirror_mode": {
    "name": "ipython",
    "version": 3
   },
   "file_extension": ".py",
   "mimetype": "text/x-python",
   "name": "python",
   "nbconvert_exporter": "python",
   "pygments_lexer": "ipython3",
   "version": "3.12.3"
  }
 },
 "nbformat": 4,
 "nbformat_minor": 2
}
