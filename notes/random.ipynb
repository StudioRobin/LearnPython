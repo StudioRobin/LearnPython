{
 "cells": [
  {
   "cell_type": "markdown",
   "metadata": {},
   "source": [
    "# random\n",
    "\n",
    "<https://docs.python.org/3/library/random.html>"
   ]
  },
  {
   "cell_type": "code",
   "execution_count": 17,
   "metadata": {},
   "outputs": [
    {
     "name": "stdout",
     "output_type": "stream",
     "text": [
      "0.07156716712300304\n",
      "4.560053450821434\n",
      "9\n",
      "18\n",
      "draw\n",
      "deck before: ['ace', 'two', 'three', 'four']\n",
      "deck after: ['three', 'four', 'two', 'ace']\n"
     ]
    }
   ],
   "source": [
    "import random\n",
    "\n",
    "print(random.random()) # Random float:  0.0 <= x < 1.0\n",
    "print(random.uniform(2.5, 10.0)) # Random float:  2.5 <= x <= 10.0\n",
    "print(random.randrange(10)) # Integer from 0 to 9 inclusive\n",
    "print(random.randrange(0, 101, 2)) # Even integer from 0 to 100 inclusive\n",
    "print(random.choice(['win', 'lose', 'draw'])) # Single random element from a sequence\n",
    "deck = 'ace two three four'.split()\n",
    "print (\"deck before:\", deck)\n",
    "random.shuffle(deck)  \n",
    "print (\"deck after:\", deck)\n"
   ]
  }
 ],
 "metadata": {
  "kernelspec": {
   "display_name": ".venv",
   "language": "python",
   "name": "python3"
  },
  "language_info": {
   "codemirror_mode": {
    "name": "ipython",
    "version": 3
   },
   "file_extension": ".py",
   "mimetype": "text/x-python",
   "name": "python",
   "nbconvert_exporter": "python",
   "pygments_lexer": "ipython3",
   "version": "3.12.3"
  }
 },
 "nbformat": 4,
 "nbformat_minor": 2
}
