{
 "cells": [
  {
   "cell_type": "markdown",
   "metadata": {},
   "source": [
    "# File IO\n",
    "\n",
    "To read or write a file, you first need to open the file. Use the open() function to open a file.\n",
    "`file = open( \"file.txt\" , \"r\" )`\n",
    "\n",
    "The first argument of the open() function is the file path, and the second argument specifies the mode in which to open the file. The modes include the following:\n",
    "- \"r\": Read mode (default)\n",
    "- \"w\": Write mode (overwrites if the file exists)\n",
    "- \"a\": Append mode (appends to the end of the file)\n",
    "- \"x\": Exclusive write mode (raises an error if the file exists)\n",
    "\n",
    "After using the file, call the close() method to close the file.\n",
    "`file.close()`\n",
    "\n",
    "Or use `with`, like the `using` in C#\n",
    "\n"
   ]
  },
  {
   "cell_type": "code",
   "execution_count": 1,
   "metadata": {},
   "outputs": [],
   "source": [
    "# write a file\n",
    "with open( \"file.txt\" , \"w\" ) as file:\n",
    "    file.write( \"Hello, World!\\n\" )\n",
    "    file.write( \"This is a sample file.\\n\" )"
   ]
  },
  {
   "cell_type": "code",
   "execution_count": 1,
   "metadata": {},
   "outputs": [
    {
     "name": "stdout",
     "output_type": "stream",
     "text": [
      "Hello, World!\n",
      "This is a sample file.\n",
      "\n",
      "Hello, World!\n",
      "This is a sample file.\n",
      "['Hello, World!\\n', 'This is a sample file.\\n']\n"
     ]
    }
   ],
   "source": [
    "# Read the entire file\n",
    "with open( \"file.txt\" , \"r\" ) as file:\n",
    "    content = file.read()\n",
    "    print(content)\n",
    "\n",
    "# Read line by line\n",
    "with open( \"file.txt\" , \"r\" ) as file:\n",
    "    line = file.readline()\n",
    "    while line:\n",
    "        print(line.strip())\n",
    "        line = file.readline()\n",
    "\n",
    "# Read all lines as a list\n",
    "with open( \"file.txt\" , \"r\" ) as file:\n",
    "    lines = file.readlines()\n",
    "print(lines)"
   ]
  },
  {
   "cell_type": "code",
   "execution_count": 2,
   "metadata": {},
   "outputs": [],
   "source": [
    "import csv\n",
    "\n",
    "# Writing to a CSV file\n",
    "with open( \"data.csv\" , \"w\" , newline= \"\" ) as file:\n",
    "    writer = csv.writer(file)\n",
    "    writer.writerow([ \"Name\" , \"Age\" , \"City\" ])\n",
    "    writer.writerow([ \"Alice\" , \"28\" , \"New York\" ])\n",
    "    writer.writerow([ \"Bob\" , \"35\" , \"Paris\" ])"
   ]
  },
  {
   "cell_type": "code",
   "execution_count": null,
   "metadata": {},
   "outputs": [],
   "source": [
    "import csv\n",
    "# Reading a CSV file\n",
    "with open( \"data.csv\" , \"r\" ) as file:\n",
    "    reader = csv.reader(file)\n",
    "    for row in reader:\n",
    "        print(row)\n"
   ]
  }
 ],
 "metadata": {
  "kernelspec": {
   "display_name": ".venv",
   "language": "python",
   "name": "python3"
  },
  "language_info": {
   "codemirror_mode": {
    "name": "ipython",
    "version": 3
   },
   "file_extension": ".py",
   "mimetype": "text/x-python",
   "name": "python",
   "nbconvert_exporter": "python",
   "pygments_lexer": "ipython3",
   "version": "3.12.5"
  }
 },
 "nbformat": 4,
 "nbformat_minor": 2
}
