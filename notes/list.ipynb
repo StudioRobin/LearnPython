{
 "cells": [
  {
   "cell_type": "markdown",
   "metadata": {},
   "source": []
  },
  {
   "cell_type": "markdown",
   "metadata": {},
   "source": [
    "# list\n",
    "\n",
    "## index and slicing\n",
    "\n",
    "\n",
    "```py\n",
    "#  +---+---+---+---+---+---+\n",
    "#  | P | y | t | h | o | n |\n",
    "#  +---+---+---+---+---+---+\n",
    "#    0   1   2   3   4   5   \n",
    "#   -6  -5  -4  -3  -2  -1   \n",
    "\n",
    "word = 'Python'\n",
    "word[0]  # character in position 0 => P\n",
    "word[5]  # character in position 5 => n\n",
    "word[-1]  # last character => n\n",
    "word[-2]  # second-last character => o\n",
    "word[-6] # the sixth from the last =>P\n",
    "word[0:2]  # characters from position 0 (included) to 2 (excluded) => Py\n",
    "word[2:5]  # characters from position 2 (included) to 5 (excluded) => tho\n",
    "word[:2]   # character from the beginning to position 2 (excluded) => Py\n",
    "word[4:]   # characters from position 4 (included) to the end => on\n",
    "word[-2:]  # characters from the second-last (included) to the end => on \n",
    "word[:2] + word[2:] # => Python \n",
    "word[2:] + word[:4] # => thonPy\n",
    "'J' + word[1:] # useful for sub-string => Jython\n",
    "```\n",
    "\n",
    "```py\n",
    "squares = [1, 4, 9, 16, 25]\n",
    "squares[0]  # indexing returns the item => 1\n",
    "squares[-1] # indexing returns the last item => 125\n",
    "squares[-3:]  # get last three items, slicing returns a new list [9, 16, 25]\n",
    "squares + [36, 49, 64, 81, 100] # Lists support operations like concatenation [1, 4, 9, 16, 25, 36, 49, 64, 81, 100]\n",
    "```\n",
    "\n",
    "## common acrions\n",
    "\n",
    "* list.insert() inserts a list item at a specified index\n",
    "* list.append() adds new items at the end of the list\n",
    "* list.pop() removes the specified index, if index is not specified, removes the last one\n",
    "* list.remove() removes a list item by value, first occurrence will be removed\n",
    "* list.clear() empties the list\n",
    "* list.extend() appends elements from another list / tuple to the current list\n",
    "\n",
    "\n",
    "```py\n",
    "letters = ['a', 'b', 'c', 'd', 'e', 'f', 'g']\n",
    "\n",
    "len(letters) # the count of items => 7\n",
    "\n",
    "# replace some values\n",
    "letters[2:5] = ['C', 'D', 'E']\n",
    "# letters ['a', 'b', 'C', 'D', 'E', 'f', 'g']\n",
    "\n",
    "# now remove them\n",
    "letters[2:5] = []\n",
    "# letters ['a', 'b', 'f', 'g']\n",
    "\n",
    "# clear the list by replacing all the elements with an empty list\n",
    "letters[:] = []\n",
    "# letters []\n",
    "```\n",
    "\n",
    "It is possible to nest lists (create lists containing other lists)\n",
    "\n",
    "```py\n",
    "a = ['a', 'b', 'c']\n",
    "n = [1, 2, 3]\n",
    "x = [a, n]\n",
    "# x [['a', 'b', 'c'], [1, 2, 3]]\n",
    "# x[0] => ['a', 'b', 'c']\n",
    "# x[0][1] => 'b'\n",
    "```"
   ]
  },
  {
   "cell_type": "markdown",
   "metadata": {},
   "source": [
    "##  List Comprehension"
   ]
  },
  {
   "cell_type": "code",
   "execution_count": 1,
   "metadata": {},
   "outputs": [
    {
     "name": "stdout",
     "output_type": "stream",
     "text": [
      "[5, 4, 3, 2, 1]\n"
     ]
    },
    {
     "data": {
      "text/plain": [
       "[5, 4, 3, 2, 1]"
      ]
     },
     "metadata": {},
     "output_type": "display_data"
    }
   ],
   "source": [
    "# reverse an array in python\n",
    "arr = [1, 2, 3, 4, 5]\n",
    "reversed_arr = arr[::-1]\n",
    "print(reversed_arr)"
   ]
  }
 ],
 "metadata": {
  "kernelspec": {
   "display_name": ".venv",
   "language": "python",
   "name": "python3"
  },
  "language_info": {
   "codemirror_mode": {
    "name": "ipython",
    "version": 3
   },
   "file_extension": ".py",
   "mimetype": "text/x-python",
   "name": "python",
   "nbconvert_exporter": "python",
   "pygments_lexer": "ipython3",
   "version": "3.12.4"
  }
 },
 "nbformat": 4,
 "nbformat_minor": 2
}
