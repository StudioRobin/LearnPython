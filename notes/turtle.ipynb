{
 "cells": [
  {
   "cell_type": "markdown",
   "metadata": {},
   "source": [
    "# turtle\n",
    "\n"
   ]
  },
  {
   "cell_type": "code",
   "execution_count": null,
   "metadata": {},
   "outputs": [],
   "source": [
    "import turtle as t\n",
    "from random import random\n",
    "\n",
    "for i in range(100):\n",
    "    steps = int(random() * 100)\n",
    "    angle = int(random() * 360)\n",
    "    t.right(angle)\n",
    "    t.fd(steps)\n",
    "\n",
    "t.mainloop()"
   ]
  },
  {
   "cell_type": "code",
   "execution_count": 1,
   "metadata": {},
   "outputs": [
    {
     "ename": "TypeError",
     "evalue": "Random.random() takes no arguments (2 given)",
     "output_type": "error",
     "traceback": [
      "\u001b[0;31m---------------------------------------------------------------------------\u001b[0m",
      "\u001b[0;31mTypeError\u001b[0m                                 Traceback (most recent call last)",
      "Cell \u001b[0;32mIn[1], line 86\u001b[0m\n\u001b[1;32m     84\u001b[0m     t\u001b[38;5;241m.\u001b[39mpenup() \n\u001b[1;32m     85\u001b[0m     t\u001b[38;5;241m.\u001b[39msetheading(\u001b[38;5;241m0\u001b[39m)\n\u001b[0;32m---> 86\u001b[0m t\u001b[38;5;241m.\u001b[39mgoto(\u001b[43mrandom\u001b[49m\u001b[43m(\u001b[49m\u001b[38;5;241;43m-\u001b[39;49m\u001b[38;5;241;43m100\u001b[39;49m\u001b[43m,\u001b[49m\u001b[43m \u001b[49m\u001b[38;5;241;43m100\u001b[39;49m\u001b[43m)\u001b[49m,random(\u001b[38;5;241m-\u001b[39m\u001b[38;5;241m100\u001b[39m, \u001b[38;5;241m100\u001b[39m))\n\u001b[1;32m     87\u001b[0m t\u001b[38;5;241m.\u001b[39msetheading(random(\u001b[38;5;241m-\u001b[39m\u001b[38;5;241m180\u001b[39m, \u001b[38;5;241m180\u001b[39m))\n\u001b[1;32m     88\u001b[0m arm(\u001b[38;5;124m'\u001b[39m\u001b[38;5;124mgreen\u001b[39m\u001b[38;5;124m'\u001b[39m)\n",
      "\u001b[0;31mTypeError\u001b[0m: Random.random() takes no arguments (2 given)"
     ]
    },
    {
     "ename": "",
     "evalue": "",
     "output_type": "error",
     "traceback": [
      "\u001b[1;31mThe Kernel crashed while executing code in the current cell or a previous cell. \n",
      "\u001b[1;31mPlease review the code in the cell(s) to identify a possible cause of the failure. \n",
      "\u001b[1;31mClick <a href='https://aka.ms/vscodeJupyterKernelCrash'>here</a> for more info. \n",
      "\u001b[1;31mView Jupyter <a href='command:jupyter.viewOutput'>log</a> for further details."
     ]
    }
   ],
   "source": [
    "import turtle as t\n",
    "from random import random\n",
    "\n",
    "def rectangle(horizontal, vertical, color):\n",
    "    t.pendown()\n",
    "    t.pensize(1)\n",
    "    t.color(color) \n",
    "    t.begin_fill()\n",
    "    for counter in range(1, 3):\n",
    "        t.forward(horizontal)\n",
    "        t.right(90) \n",
    "        t.forward(vertical)\n",
    "        t.right(90)\n",
    "    t.end_fill()\n",
    "    t.penup()\n",
    "\n",
    "t.penup()\n",
    "t.speed('fast') \n",
    "t.bgcolor('Dodger blue')\n",
    "# feet\n",
    "t.goto(-100, -150) \n",
    "rectangle(50, 20, 'green') \n",
    "t.goto(-30, -150) \n",
    "rectangle(50, 20, 'blue')\n",
    "# legs\n",
    "t.goto(-25, -50) \n",
    "rectangle(15, 100, 'grey') \n",
    "t.goto(-55, -50)\n",
    "rectangle(-15, 100, 'grey')\n",
    "# body\n",
    "t.goto(-90, 100) \n",
    "rectangle(100, 150, 'red')\n",
    "# arms \n",
    "t.goto(-150, 70) \n",
    "rectangle(60, 15, 'grey')\n",
    "t.goto(-150, 110) \n",
    "rectangle(15, 40, 'grey')\n",
    "t.goto(10, 70)\n",
    "rectangle(60, 15,  'grey')\n",
    "t.goto(55, 110) \n",
    "rectangle(15, 40, 'grey')\n",
    "# neck\n",
    "t.goto(-50, 120)\n",
    "rectangle(15, 20, 'grey')\n",
    "# head\n",
    "t.goto(-85, 170) \n",
    "rectangle(80, 50, 'red')\n",
    "# eyes\n",
    "t.goto(-60, 160) \n",
    "rectangle(30, 10, 'white') \n",
    "t.goto(-55, 155) \n",
    "rectangle(5, 5, 'black') \n",
    "t.goto(-40, 155)\n",
    "rectangle(5, 5, 'black')\n",
    "# mouth\n",
    "t.goto(-65, 135)\n",
    "rectangle(40, 5, 'black')\n",
    "t.hideturtle()\n",
    "# hands \n",
    "t.goto(-155, 130) \n",
    "rectangle(25, 25,'green')\n",
    "t.goto(-147, 130) \n",
    "rectangle(10, 15, t.bgcolor())\n",
    "t.goto(50, 130) \n",
    "rectangle(25, 25,'green')\n",
    "t.goto(58, 130) \n",
    "rectangle(5, 8, t.bgcolor())\n",
    "def arm(color):\n",
    "    t.pendown()\n",
    "    t.begin_fill()\n",
    "    t.color(color)\n",
    "    t.forward(60)\n",
    "    t.right(90) \n",
    "    t.forward(50) \n",
    "    t.right(90) \n",
    "    t.forward(10) \n",
    "    t.right(90) \n",
    "    t.forward(40) \n",
    "    t.left(90) \n",
    "    t.forward(50) \n",
    "    t.right(90) \n",
    "    t.forward(10) \n",
    "    t.end_fill() \n",
    "    t.penup() \n",
    "    t.setheading(0)\n",
    "t.goto(122,133)\n",
    "t.setheading(155)\n",
    "arm('green')\n",
    "t.mainloop()"
   ]
  },
  {
   "cell_type": "code",
   "execution_count": 3,
   "metadata": {},
   "outputs": [
    {
     "ename": "Terminator",
     "evalue": "",
     "output_type": "error",
     "traceback": [
      "\u001b[0;31m---------------------------------------------------------------------------\u001b[0m",
      "\u001b[0;31mTerminator\u001b[0m                                Traceback (most recent call last)",
      "Cell \u001b[0;32mIn[3], line 13\u001b[0m\n\u001b[1;32m     11\u001b[0m turtle\u001b[38;5;241m.\u001b[39mspeed(\u001b[38;5;124m'\u001b[39m\u001b[38;5;124mfastest\u001b[39m\u001b[38;5;124m'\u001b[39m)\n\u001b[1;32m     12\u001b[0m turtle\u001b[38;5;241m.\u001b[39mpensize(\u001b[38;5;241m4\u001b[39m)\n\u001b[0;32m---> 13\u001b[0m \u001b[43mdraw_circle\u001b[49m\u001b[43m(\u001b[49m\u001b[38;5;241;43m50\u001b[39;49m\u001b[43m,\u001b[49m\u001b[38;5;241;43m0\u001b[39;49m\u001b[43m,\u001b[49m\u001b[38;5;241;43m1\u001b[39;49m\u001b[43m)\u001b[49m\n\u001b[1;32m     15\u001b[0m turtle\u001b[38;5;241m.\u001b[39mmainloop()\n",
      "Cell \u001b[0;32mIn[3], line 9\u001b[0m, in \u001b[0;36mdraw_circle\u001b[0;34m(size, angle, shift)\u001b[0m\n\u001b[1;32m      7\u001b[0m turtle\u001b[38;5;241m.\u001b[39mright(angle)\n\u001b[1;32m      8\u001b[0m turtle\u001b[38;5;241m.\u001b[39mforward(shift)\n\u001b[0;32m----> 9\u001b[0m \u001b[43mdraw_circle\u001b[49m\u001b[43m(\u001b[49m\u001b[43msize\u001b[49m\u001b[43m \u001b[49m\u001b[38;5;241;43m+\u001b[39;49m\u001b[43m \u001b[49m\u001b[38;5;241;43m0.1\u001b[39;49m\u001b[43m,\u001b[49m\u001b[43m \u001b[49m\u001b[43mangle\u001b[49m\u001b[43m \u001b[49m\u001b[38;5;241;43m+\u001b[39;49m\u001b[43m \u001b[49m\u001b[38;5;241;43m0.1\u001b[39;49m\u001b[43m,\u001b[49m\u001b[43m \u001b[49m\u001b[43mshift\u001b[49m\u001b[43m \u001b[49m\u001b[38;5;241;43m+\u001b[39;49m\u001b[43m \u001b[49m\u001b[38;5;241;43m0.1\u001b[39;49m\u001b[43m)\u001b[49m\n",
      "Cell \u001b[0;32mIn[3], line 9\u001b[0m, in \u001b[0;36mdraw_circle\u001b[0;34m(size, angle, shift)\u001b[0m\n\u001b[1;32m      7\u001b[0m turtle\u001b[38;5;241m.\u001b[39mright(angle)\n\u001b[1;32m      8\u001b[0m turtle\u001b[38;5;241m.\u001b[39mforward(shift)\n\u001b[0;32m----> 9\u001b[0m \u001b[43mdraw_circle\u001b[49m\u001b[43m(\u001b[49m\u001b[43msize\u001b[49m\u001b[43m \u001b[49m\u001b[38;5;241;43m+\u001b[39;49m\u001b[43m \u001b[49m\u001b[38;5;241;43m0.1\u001b[39;49m\u001b[43m,\u001b[49m\u001b[43m \u001b[49m\u001b[43mangle\u001b[49m\u001b[43m \u001b[49m\u001b[38;5;241;43m+\u001b[39;49m\u001b[43m \u001b[49m\u001b[38;5;241;43m0.1\u001b[39;49m\u001b[43m,\u001b[49m\u001b[43m \u001b[49m\u001b[43mshift\u001b[49m\u001b[43m \u001b[49m\u001b[38;5;241;43m+\u001b[39;49m\u001b[43m \u001b[49m\u001b[38;5;241;43m0.1\u001b[39;49m\u001b[43m)\u001b[49m\n",
      "    \u001b[0;31m[... skipping similar frames: draw_circle at line 9 (285 times)]\u001b[0m\n",
      "Cell \u001b[0;32mIn[3], line 9\u001b[0m, in \u001b[0;36mdraw_circle\u001b[0;34m(size, angle, shift)\u001b[0m\n\u001b[1;32m      7\u001b[0m turtle\u001b[38;5;241m.\u001b[39mright(angle)\n\u001b[1;32m      8\u001b[0m turtle\u001b[38;5;241m.\u001b[39mforward(shift)\n\u001b[0;32m----> 9\u001b[0m \u001b[43mdraw_circle\u001b[49m\u001b[43m(\u001b[49m\u001b[43msize\u001b[49m\u001b[43m \u001b[49m\u001b[38;5;241;43m+\u001b[39;49m\u001b[43m \u001b[49m\u001b[38;5;241;43m0.1\u001b[39;49m\u001b[43m,\u001b[49m\u001b[43m \u001b[49m\u001b[43mangle\u001b[49m\u001b[43m \u001b[49m\u001b[38;5;241;43m+\u001b[39;49m\u001b[43m \u001b[49m\u001b[38;5;241;43m0.1\u001b[39;49m\u001b[43m,\u001b[49m\u001b[43m \u001b[49m\u001b[43mshift\u001b[49m\u001b[43m \u001b[49m\u001b[38;5;241;43m+\u001b[39;49m\u001b[43m \u001b[49m\u001b[38;5;241;43m0.1\u001b[39;49m\u001b[43m)\u001b[49m\n",
      "Cell \u001b[0;32mIn[3], line 6\u001b[0m, in \u001b[0;36mdraw_circle\u001b[0;34m(size, angle, shift)\u001b[0m\n\u001b[1;32m      4\u001b[0m \u001b[38;5;28;01mdef\u001b[39;00m \u001b[38;5;21mdraw_circle\u001b[39m(size, angle, shift):\n\u001b[1;32m      5\u001b[0m     turtle\u001b[38;5;241m.\u001b[39mpencolor(\u001b[38;5;28mnext\u001b[39m(colors))\n\u001b[0;32m----> 6\u001b[0m     \u001b[43mturtle\u001b[49m\u001b[38;5;241;43m.\u001b[39;49m\u001b[43mcircle\u001b[49m\u001b[43m(\u001b[49m\u001b[43msize\u001b[49m\u001b[43m)\u001b[49m\n\u001b[1;32m      7\u001b[0m     turtle\u001b[38;5;241m.\u001b[39mright(angle)\n\u001b[1;32m      8\u001b[0m     turtle\u001b[38;5;241m.\u001b[39mforward(shift)\n",
      "File \u001b[0;32m<string>:8\u001b[0m, in \u001b[0;36mcircle\u001b[0;34m(radius, extent, steps)\u001b[0m\n",
      "File \u001b[0;32m/usr/local/Cellar/python@3.12/3.12.3/Frameworks/Python.framework/Versions/3.12/lib/python3.12/turtle.py:1996\u001b[0m, in \u001b[0;36mTNavigator.circle\u001b[0;34m(self, radius, extent, steps)\u001b[0m\n\u001b[1;32m   1994\u001b[0m \u001b[38;5;28;01mif\u001b[39;00m speed \u001b[38;5;241m==\u001b[39m \u001b[38;5;241m0\u001b[39m:\n\u001b[1;32m   1995\u001b[0m     \u001b[38;5;28mself\u001b[39m\u001b[38;5;241m.\u001b[39m_tracer(tr, dl)\n\u001b[0;32m-> 1996\u001b[0m \u001b[38;5;28;43mself\u001b[39;49m\u001b[38;5;241;43m.\u001b[39;49m\u001b[43mspeed\u001b[49m\u001b[43m(\u001b[49m\u001b[43mspeed\u001b[49m\u001b[43m)\u001b[49m\n\u001b[1;32m   1997\u001b[0m \u001b[38;5;28;01mif\u001b[39;00m \u001b[38;5;28mself\u001b[39m\u001b[38;5;241m.\u001b[39mundobuffer:\n\u001b[1;32m   1998\u001b[0m     \u001b[38;5;28mself\u001b[39m\u001b[38;5;241m.\u001b[39mundobuffer\u001b[38;5;241m.\u001b[39mcumulate \u001b[38;5;241m=\u001b[39m \u001b[38;5;28;01mFalse\u001b[39;00m\n",
      "File \u001b[0;32m/usr/local/Cellar/python@3.12/3.12.3/Frameworks/Python.framework/Versions/3.12/lib/python3.12/turtle.py:2173\u001b[0m, in \u001b[0;36mTPen.speed\u001b[0;34m(self, speed)\u001b[0m\n\u001b[1;32m   2171\u001b[0m \u001b[38;5;28;01melse\u001b[39;00m:\n\u001b[1;32m   2172\u001b[0m     speed \u001b[38;5;241m=\u001b[39m \u001b[38;5;241m0\u001b[39m\n\u001b[0;32m-> 2173\u001b[0m \u001b[38;5;28;43mself\u001b[39;49m\u001b[38;5;241;43m.\u001b[39;49m\u001b[43mpen\u001b[49m\u001b[43m(\u001b[49m\u001b[43mspeed\u001b[49m\u001b[38;5;241;43m=\u001b[39;49m\u001b[43mspeed\u001b[49m\u001b[43m)\u001b[49m\n",
      "File \u001b[0;32m/usr/local/Cellar/python@3.12/3.12.3/Frameworks/Python.framework/Versions/3.12/lib/python3.12/turtle.py:2467\u001b[0m, in \u001b[0;36mTPen.pen\u001b[0;34m(self, pen, **pendict)\u001b[0m\n\u001b[1;32m   2464\u001b[0m     sa, ca \u001b[38;5;241m=\u001b[39m math\u001b[38;5;241m.\u001b[39msin(\u001b[38;5;28mself\u001b[39m\u001b[38;5;241m.\u001b[39m_tilt), math\u001b[38;5;241m.\u001b[39mcos(\u001b[38;5;28mself\u001b[39m\u001b[38;5;241m.\u001b[39m_tilt)\n\u001b[1;32m   2465\u001b[0m     \u001b[38;5;28mself\u001b[39m\u001b[38;5;241m.\u001b[39m_shapetrafo \u001b[38;5;241m=\u001b[39m ( scx\u001b[38;5;241m*\u001b[39mca, scy\u001b[38;5;241m*\u001b[39m(shf\u001b[38;5;241m*\u001b[39mca \u001b[38;5;241m+\u001b[39m sa),\n\u001b[1;32m   2466\u001b[0m                         \u001b[38;5;241m-\u001b[39mscx\u001b[38;5;241m*\u001b[39msa, scy\u001b[38;5;241m*\u001b[39m(ca \u001b[38;5;241m-\u001b[39m shf\u001b[38;5;241m*\u001b[39msa))\n\u001b[0;32m-> 2467\u001b[0m \u001b[38;5;28;43mself\u001b[39;49m\u001b[38;5;241;43m.\u001b[39;49m\u001b[43m_update\u001b[49m\u001b[43m(\u001b[49m\u001b[43m)\u001b[49m\n",
      "File \u001b[0;32m/usr/local/Cellar/python@3.12/3.12.3/Frameworks/Python.framework/Versions/3.12/lib/python3.12/turtle.py:2668\u001b[0m, in \u001b[0;36mRawTurtle._update\u001b[0;34m(self)\u001b[0m\n\u001b[1;32m   2666\u001b[0m     \u001b[38;5;28;01mreturn\u001b[39;00m\n\u001b[1;32m   2667\u001b[0m \u001b[38;5;28;01melif\u001b[39;00m screen\u001b[38;5;241m.\u001b[39m_tracing \u001b[38;5;241m==\u001b[39m \u001b[38;5;241m1\u001b[39m:\n\u001b[0;32m-> 2668\u001b[0m     \u001b[38;5;28;43mself\u001b[39;49m\u001b[38;5;241;43m.\u001b[39;49m\u001b[43m_update_data\u001b[49m\u001b[43m(\u001b[49m\u001b[43m)\u001b[49m\n\u001b[1;32m   2669\u001b[0m     \u001b[38;5;28mself\u001b[39m\u001b[38;5;241m.\u001b[39m_drawturtle()\n\u001b[1;32m   2670\u001b[0m     screen\u001b[38;5;241m.\u001b[39m_update()                  \u001b[38;5;66;03m# TurtleScreenBase\u001b[39;00m\n",
      "File \u001b[0;32m/usr/local/Cellar/python@3.12/3.12.3/Frameworks/Python.framework/Versions/3.12/lib/python3.12/turtle.py:2654\u001b[0m, in \u001b[0;36mRawTurtle._update_data\u001b[0;34m(self)\u001b[0m\n\u001b[1;32m   2653\u001b[0m \u001b[38;5;28;01mdef\u001b[39;00m \u001b[38;5;21m_update_data\u001b[39m(\u001b[38;5;28mself\u001b[39m):\n\u001b[0;32m-> 2654\u001b[0m     \u001b[38;5;28;43mself\u001b[39;49m\u001b[38;5;241;43m.\u001b[39;49m\u001b[43mscreen\u001b[49m\u001b[38;5;241;43m.\u001b[39;49m\u001b[43m_incrementudc\u001b[49m\u001b[43m(\u001b[49m\u001b[43m)\u001b[49m\n\u001b[1;32m   2655\u001b[0m     \u001b[38;5;28;01mif\u001b[39;00m \u001b[38;5;28mself\u001b[39m\u001b[38;5;241m.\u001b[39mscreen\u001b[38;5;241m.\u001b[39m_updatecounter \u001b[38;5;241m!=\u001b[39m \u001b[38;5;241m0\u001b[39m:\n\u001b[1;32m   2656\u001b[0m         \u001b[38;5;28;01mreturn\u001b[39;00m\n",
      "File \u001b[0;32m/usr/local/Cellar/python@3.12/3.12.3/Frameworks/Python.framework/Versions/3.12/lib/python3.12/turtle.py:1284\u001b[0m, in \u001b[0;36mTurtleScreen._incrementudc\u001b[0;34m(self)\u001b[0m\n\u001b[1;32m   1282\u001b[0m \u001b[38;5;28;01mif\u001b[39;00m \u001b[38;5;129;01mnot\u001b[39;00m TurtleScreen\u001b[38;5;241m.\u001b[39m_RUNNING:\n\u001b[1;32m   1283\u001b[0m     TurtleScreen\u001b[38;5;241m.\u001b[39m_RUNNING \u001b[38;5;241m=\u001b[39m \u001b[38;5;28;01mTrue\u001b[39;00m\n\u001b[0;32m-> 1284\u001b[0m     \u001b[38;5;28;01mraise\u001b[39;00m Terminator\n\u001b[1;32m   1285\u001b[0m \u001b[38;5;28;01mif\u001b[39;00m \u001b[38;5;28mself\u001b[39m\u001b[38;5;241m.\u001b[39m_tracing \u001b[38;5;241m>\u001b[39m \u001b[38;5;241m0\u001b[39m:\n\u001b[1;32m   1286\u001b[0m     \u001b[38;5;28mself\u001b[39m\u001b[38;5;241m.\u001b[39m_updatecounter \u001b[38;5;241m+\u001b[39m\u001b[38;5;241m=\u001b[39m \u001b[38;5;241m1\u001b[39m\n",
      "\u001b[0;31mTerminator\u001b[0m: "
     ]
    }
   ],
   "source": [
    "import turtle\n",
    "from itertools import cycle\n",
    "colors = cycle(['red', 'orange', 'yellow', 'green', 'blue', 'purple'])\n",
    "def draw_circle(size, angle, shift):\n",
    "    turtle.pencolor(next(colors))\n",
    "    turtle.circle(size)\n",
    "    turtle.right(angle)\n",
    "    turtle.forward(shift)\n",
    "    draw_circle(size + 0.1, angle + 0.1, shift + 0.1)\n",
    "turtle.bgcolor('black')\n",
    "turtle.speed('fastest')\n",
    "turtle.pensize(4)\n",
    "draw_circle(50,0,1)\n",
    "\n",
    "turtle.mainloop()\n"
   ]
  },
  {
   "cell_type": "markdown",
   "metadata": {},
   "source": []
  }
 ],
 "metadata": {
  "kernelspec": {
   "display_name": ".venv",
   "language": "python",
   "name": "python3"
  },
  "language_info": {
   "codemirror_mode": {
    "name": "ipython",
    "version": 3
   },
   "file_extension": ".py",
   "mimetype": "text/x-python",
   "name": "python",
   "nbconvert_exporter": "python",
   "pygments_lexer": "ipython3",
   "version": "3.12.3"
  }
 },
 "nbformat": 4,
 "nbformat_minor": 2
}
