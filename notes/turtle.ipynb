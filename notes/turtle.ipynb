{
 "cells": [
  {
   "cell_type": "markdown",
   "metadata": {},
   "source": [
    "# turtle\n",
    "\n"
   ]
  },
  {
   "cell_type": "code",
   "execution_count": null,
   "metadata": {},
   "outputs": [],
   "source": [
    "import turtle as t\n",
    "from random import random\n",
    "\n",
    "for i in range(100):\n",
    "    steps = int(random() * 100)\n",
    "    angle = int(random() * 360)\n",
    "    t.right(angle)\n",
    "    t.fd(steps)\n",
    "\n",
    "t.mainloop()"
   ]
  },
  {
   "cell_type": "code",
   "execution_count": 5,
   "metadata": {},
   "outputs": [
    {
     "ename": "",
     "evalue": "",
     "output_type": "error",
     "traceback": [
      "\u001b[1;31mThe Kernel crashed while executing code in the current cell or a previous cell. \n",
      "\u001b[1;31mPlease review the code in the cell(s) to identify a possible cause of the failure. \n",
      "\u001b[1;31mClick <a href='https://aka.ms/vscodeJupyterKernelCrash'>here</a> for more info. \n",
      "\u001b[1;31mView Jupyter <a href='command:jupyter.viewOutput'>log</a> for further details."
     ]
    }
   ],
   "source": [
    "import turtle as t\n",
    "\n",
    "def rectangle(horizontal, vertical, color):\n",
    "    t.pendown()\n",
    "    t.pensize(1)\n",
    "    t.color(color) \n",
    "    t.begin_fill()\n",
    "    for counter in range(1, 3):\n",
    "        t.forward(horizontal)\n",
    "        t.right(90) \n",
    "        t.forward(vertical)\n",
    "        t.right(90)\n",
    "    t.end_fill()\n",
    "    t.penup()\n",
    "\n",
    "t.penup()\n",
    "t.speed('slow') \n",
    "t.bgcolor('Dodger blue')\n",
    "# feet\n",
    "t.goto(-100, -150) \n",
    "rectangle(50, 20, 'green') \n",
    "t.goto(-30, -150) \n",
    "rectangle(50, 20, 'blue')\n",
    "# legs\n",
    "t.goto(-25, -50) \n",
    "rectangle(15, 100, 'grey') \n",
    "t.goto(-55, -50)\n",
    "rectangle(-15, 100, 'grey')\n",
    "# body\n",
    "t.goto(-90, 100) \n",
    "rectangle(100, 150, 'red')\n",
    "# arms \n",
    "t.goto(-150, 70) \n",
    "rectangle(60, 15, 'grey')\n",
    "t.goto(-150, 110) \n",
    "rectangle(15, 40, 'grey')\n",
    "t.goto(10, 70)\n",
    "rectangle(60, 15,  'grey')\n",
    "t.goto(55, 110) \n",
    "rectangle(15, 40, 'grey')\n",
    "# neck\n",
    "t.goto(-50, 120)\n",
    "rectangle(15, 20, 'grey')\n",
    "# head\n",
    "t.goto(-85, 170) \n",
    "rectangle(80, 50, 'red')\n",
    "# eyes\n",
    "t.goto(-60, 160) \n",
    "rectangle(30, 10, 'white') \n",
    "t.goto(-55, 155) \n",
    "rectangle(5, 5, 'black') \n",
    "t.goto(-40, 155)\n",
    "rectangle(5, 5, 'black')\n",
    "# mouth\n",
    "t.goto(-65, 135)\n",
    "rectangle(40, 5, 'black')\n",
    "t.hideturtle()\n",
    "t.mainloop()"
   ]
  },
  {
   "cell_type": "markdown",
   "metadata": {},
   "source": []
  }
 ],
 "metadata": {
  "kernelspec": {
   "display_name": ".venv",
   "language": "python",
   "name": "python3"
  },
  "language_info": {
   "codemirror_mode": {
    "name": "ipython",
    "version": 3
   },
   "file_extension": ".py",
   "mimetype": "text/x-python",
   "name": "python",
   "nbconvert_exporter": "python",
   "pygments_lexer": "ipython3",
   "version": "3.12.3"
  }
 },
 "nbformat": 4,
 "nbformat_minor": 2
}
