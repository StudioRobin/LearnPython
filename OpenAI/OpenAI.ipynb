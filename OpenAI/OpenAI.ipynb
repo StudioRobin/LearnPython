{
 "cells": [
  {
   "cell_type": "markdown",
   "metadata": {},
   "source": [
    "# Setup\n"
   ]
  },
  {
   "cell_type": "code",
   "execution_count": 1,
   "metadata": {},
   "outputs": [
    {
     "name": "stdout",
     "output_type": "stream",
     "text": [
      "In the realm of code, a tale to tell,\n",
      "Of recursion's enchanting spell.\n",
      "A function calling itself anew,\n",
      "A dance of logic, tried and true.\n",
      "\n",
      "Like mirrors reflecting endless skies,\n",
      "Each iteration softly cries,\n",
      "To unravel tasks in a graceful twist,\n",
      "Repeating steps, none shall resist.\n",
      "\n",
      "Through loops and branches, we shall seek,\n",
      "To traverse data, bold and meek.\n",
      "A journey deep, through layers profound,\n",
      "In the nesting grounds, we are bound.\n",
      "\n",
      "For in this cycle, a beauty lies,\n",
      "A pattern in the algorithm's eyes.\n",
      "A symphony of calls cascading down,\n",
      "In recursion's realm, we wear the crown.\n",
      "\n",
      "So weave your functions, recursive and clear,\n",
      "In the coding cosmos, hold them dear.\n",
      "For in their looping, a magic found,\n",
      "A poetic dance, forever profound.\n"
     ]
    }
   ],
   "source": [
    "from openai import OpenAI\n",
    "\n",
    "client = OpenAI()\n",
    "\n",
    "completion = client.chat.completions.create(\n",
    "    model=\"gpt-3.5-turbo\",\n",
    "    messages=[\n",
    "        {\n",
    "            \"role\": \"system\",\n",
    "            \"content\": \"You are a poetic assistant, skilled in explaining complex programming concepts with creative flair.\",\n",
    "        },\n",
    "        {\n",
    "            \"role\": \"user\",\n",
    "            \"content\": \"Compose a poem that explains the concept of recursion in programming.\",\n",
    "        },\n",
    "    ],\n",
    ")\n",
    "\n",
    "print(completion.choices[0].message.content)"
   ]
  }
 ],
 "metadata": {
  "kernelspec": {
   "display_name": ".venv",
   "language": "python",
   "name": "python3"
  },
  "language_info": {
   "codemirror_mode": {
    "name": "ipython",
    "version": 3
   },
   "file_extension": ".py",
   "mimetype": "text/x-python",
   "name": "python",
   "nbconvert_exporter": "python",
   "pygments_lexer": "ipython3",
   "version": "3.12.4"
  }
 },
 "nbformat": 4,
 "nbformat_minor": 2
}
