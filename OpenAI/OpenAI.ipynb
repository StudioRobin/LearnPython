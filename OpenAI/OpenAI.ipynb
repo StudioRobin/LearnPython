{
 "cells": [
  {
   "cell_type": "markdown",
   "metadata": {},
   "source": [
    "# Setup\n"
   ]
  },
  {
   "cell_type": "code",
   "execution_count": 7,
   "metadata": {},
   "outputs": [
    {
     "name": "stdout",
     "output_type": "stream",
     "text": [
      "In the realm of code, where functions dwell,\n",
      "Lies a concept that weaves a recursive spell.\n",
      "A function that calls itself with grace,\n",
      "Creating a loop in a mysterious embrace.\n",
      "\n",
      "Like a mirror reflecting its own reflection,\n",
      "Recursion repeats with deep introspection.\n",
      "Breaking down big problems into small,\n",
      "Until the solution emerges, standing tall.\n",
      "\n",
      "It's a dance of elegance, a pattern divine,\n",
      "A loop within a loop, a mystical design.\n",
      "Each recursive call peeling layers away,\n",
      "Unraveling the mystery, night and day.\n",
      "\n",
      "But be cautious, dear coder, in your endless iteration,\n",
      "For infinite recursion leads to a dire situation.\n",
      "Stack overflow looms, a beast to beware,\n",
      "So mind your base case with utmost care.\n",
      "\n",
      "So heed the call of recursion's sweet song,\n",
      "A powerful tool, but not to be used wrong.\n",
      "In the coding realm, where magic is found,\n",
      "Recursion reigns, with beauty unbound.\n"
     ]
    }
   ],
   "source": [
    "from openai import OpenAI\n",
    "\n",
    "client = OpenAI()\n",
    "\n",
    "completion = client.chat.completions.create(\n",
    "    model=\"gpt-3.5-turbo\",\n",
    "    messages=[\n",
    "        {\n",
    "            \"role\": \"system\",\n",
    "            \"content\": \"You are a poetic assistant, skilled in explaining complex programming concepts with creative flair.\",\n",
    "        },\n",
    "        {\n",
    "            \"role\": \"user\",\n",
    "            \"content\": \"Compose a poem that explains the concept of recursion in programming.\",\n",
    "        },\n",
    "    ],\n",
    ")\n",
    "\n",
    "\n",
    "print(completion.choices[0].message.content)"
   ]
  }
 ],
 "metadata": {
  "kernelspec": {
   "display_name": ".venv",
   "language": "python",
   "name": "python3"
  },
  "language_info": {
   "codemirror_mode": {
    "name": "ipython",
    "version": 3
   },
   "file_extension": ".py",
   "mimetype": "text/x-python",
   "name": "python",
   "nbconvert_exporter": "python",
   "pygments_lexer": "ipython3",
   "version": "3.12.4"
  }
 },
 "nbformat": 4,
 "nbformat_minor": 2
}
