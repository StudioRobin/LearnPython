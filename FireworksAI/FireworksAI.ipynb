{
 "cells": [
  {
   "cell_type": "markdown",
   "metadata": {},
   "source": [
    "# Setup\n"
   ]
  },
  {
   "cell_type": "markdown",
   "metadata": {},
   "source": [
    "## Chat API"
   ]
  },
  {
   "cell_type": "code",
   "execution_count": 15,
   "metadata": {},
   "outputs": [
    {
     "name": "stdout",
     "output_type": "stream",
     "text": [
      "It looks like we're testing whether this chatbot is functioning properly!\n"
     ]
    }
   ],
   "source": [
    "from fireworks.client import Fireworks\n",
    "\n",
    "client = Fireworks(api_key=\"JSpFwkIGCUmGDrWEAkYbLyPlUm545EnxnZ2lLpMHkD4E4N3l\")\n",
    "response = client.chat.completions.create(\n",
    "  model=\"accounts/fireworks/models/llama-v3-8b-instruct\",\n",
    "  messages=[{\n",
    "    \"role\": \"user\",\n",
    "    \"content\": \"Say this is a test\",\n",
    "  }],\n",
    ")\n",
    "print(response.choices[0].message.content)\n"
   ]
  },
  {
   "cell_type": "code",
   "execution_count": 14,
   "metadata": {},
   "outputs": [
    {
     "name": "stdout",
     "output_type": "stream",
     "text": [
      "It looks like you're testing to see if I'm working correctly! That's perfectly fine. I'm here to help and answer any questions you may have, so feel free to ask me anything.\n"
     ]
    }
   ],
   "source": [
    "import openai\n",
    "\n",
    "client = openai.OpenAI(\n",
    "    base_url = \"https://api.fireworks.ai/inference/v1\",\n",
    "    api_key=\"JSpFwkIGCUmGDrWEAkYbLyPlUm545EnxnZ2lLpMHkD4E4N3l\",\n",
    ")\n",
    "response = client.chat.completions.create(\n",
    "  model=\"accounts/fireworks/models/llama-v3-8b-instruct\",\n",
    "  messages=[{\n",
    "    \"role\": \"user\",\n",
    "    \"content\": \"Say this is a test\",\n",
    "  }],\n",
    ")\n",
    "print(response.choices[0].message.content)\n"
   ]
  },
  {
   "cell_type": "markdown",
   "metadata": {},
   "source": [
    "## Completion API"
   ]
  },
  {
   "cell_type": "code",
   "execution_count": 13,
   "metadata": {},
   "outputs": [
    {
     "name": "stdout",
     "output_type": "stream",
     "text": [
      "id='0844567a-2c31-4133-98ca-e9ebf875deba' object='text_completion' created=1720915716 model='accounts/fireworks/models/llama-v3-8b-instruct' choices=[Choice(index=0, text=': the first digital-only sports media brand in the world\\nThe world of sports', logprobs=None, finish_reason='length', raw_output=None)] usage=UsageInfo(prompt_tokens=6, total_tokens=22, completion_tokens=16)\n"
     ]
    }
   ],
   "source": [
    "from fireworks.client import Fireworks\n",
    "\n",
    "client = Fireworks(api_key=\"JSpFwkIGCUmGDrWEAkYbLyPlUm545EnxnZ2lLpMHkD4E4N3l\")\n",
    "response = client.completion.create(\n",
    "  model=\"accounts/fireworks/models/llama-v3-8b-instruct\",\n",
    "  prompt=\"Say this is a test\",\n",
    ")\n",
    "\n",
    "print(response)"
   ]
  }
 ],
 "metadata": {
  "kernelspec": {
   "display_name": ".venv",
   "language": "python",
   "name": "python3"
  },
  "language_info": {
   "codemirror_mode": {
    "name": "ipython",
    "version": 3
   },
   "file_extension": ".py",
   "mimetype": "text/x-python",
   "name": "python",
   "nbconvert_exporter": "python",
   "pygments_lexer": "ipython3",
   "version": "3.12.4"
  }
 },
 "nbformat": 4,
 "nbformat_minor": 2
}
