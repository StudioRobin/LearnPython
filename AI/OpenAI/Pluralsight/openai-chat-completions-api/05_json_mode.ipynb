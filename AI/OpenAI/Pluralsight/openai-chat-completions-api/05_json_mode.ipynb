{
 "cells": [
  {
   "cell_type": "markdown",
   "id": "0d4805da-5c50-49ae-8110-98d9c25893db",
   "metadata": {},
   "source": [
    "# Using JSON Mode"
   ]
  },
  {
   "cell_type": "code",
   "execution_count": 1,
   "id": "d8e19c0e-62ec-4199-b541-6bab62cc2008",
   "metadata": {},
   "outputs": [],
   "source": [
    "# !pip install --upgrade openai"
   ]
  },
  {
   "cell_type": "code",
   "execution_count": 2,
   "id": "7ef9510c-ffac-4a13-aff4-6daa60e1f64b",
   "metadata": {},
   "outputs": [],
   "source": [
    "from openai import OpenAI\n",
    "import os\n",
    "from pprint import pprint"
   ]
  },
  {
   "cell_type": "code",
   "execution_count": 3,
   "id": "0c1363c2-f815-4877-b78f-98ba64e14963",
   "metadata": {},
   "outputs": [],
   "source": [
    "# A recommended way to store the key is in an environment variable. For this demo, I am storing in a file.\n",
    "# key_location = 'C:\\ps-gen-openai-python\\key\\genaikey.txt'\n",
    "key_location = '/Users/xavier/github/xmorera/ps-generative-ai-developing-applications-python-openai/key/genaikey.txt'\n",
    "\n",
    "with open(key_location, 'r') as file:\n",
    "    key = file.readline().strip()"
   ]
  },
  {
   "cell_type": "code",
   "execution_count": 4,
   "id": "fadac579-bc27-436e-a521-99b7e34256dc",
   "metadata": {},
   "outputs": [],
   "source": [
    "# Set the key to authenticate with the API\n",
    "os.environ[\"OPENAI_API_KEY\"] = key"
   ]
  },
  {
   "cell_type": "code",
   "execution_count": 5,
   "id": "1f762013-9713-4810-b259-c4dc1b486819",
   "metadata": {},
   "outputs": [],
   "source": [
    "client = OpenAI()"
   ]
  },
  {
   "cell_type": "code",
   "execution_count": 6,
   "id": "85246714-e3d3-481b-837f-cdf48fa5be7a",
   "metadata": {},
   "outputs": [],
   "source": [
    "prompt = \"Tell me why Costa Rica is a good tourist destination in one paragraph.\""
   ]
  },
  {
   "cell_type": "code",
   "execution_count": 7,
   "id": "60d6995f-1c8f-48af-8afd-f9c1fb256494",
   "metadata": {},
   "outputs": [],
   "source": [
    "response = client.chat.completions.create(\n",
    "    model=\"gpt-3.5-turbo\",\n",
    "    messages=[{\"role\": \"user\",\"content\": prompt}],\n",
    "    temperature=0.7,\n",
    "    max_tokens=256\n",
    ")"
   ]
  },
  {
   "cell_type": "code",
   "execution_count": 8,
   "id": "c5c7a126-7b20-47bc-984d-9af39350c07c",
   "metadata": {},
   "outputs": [
    {
     "name": "stdout",
     "output_type": "stream",
     "text": [
      "('Costa Rica is a remarkable tourist destination due to its stunning natural '\n",
      " 'beauty, biodiversity, and commitment to sustainable tourism. With its '\n",
      " 'picturesque beaches, lush rainforests, and towering volcanoes, the country '\n",
      " 'offers a diverse range of breathtaking landscapes to explore. Moreover, '\n",
      " 'Costa Rica is home to an astonishing array of wildlife, including sloths, '\n",
      " 'monkeys, and vibrant tropical birds, making it a paradise for nature '\n",
      " \"enthusiasts. Additionally, the country's strong emphasis on sustainable \"\n",
      " 'tourism ensures that visitors can enjoy their trip while minimizing their '\n",
      " 'ecological footprint. From thrilling outdoor adventures like zip-lining and '\n",
      " 'whitewater rafting to relaxing in hot springs and indulging in delicious '\n",
      " 'local cuisine, Costa Rica offers an unforgettable experience for every type '\n",
      " 'of traveler.')\n"
     ]
    }
   ],
   "source": [
    "pprint(response.choices[0].message.content)"
   ]
  },
  {
   "cell_type": "code",
   "execution_count": 9,
   "id": "86e446c3-8cfc-4b45-b691-ddc283ce5878",
   "metadata": {},
   "outputs": [],
   "source": [
    "response = client.chat.completions.create(\n",
    "    model=\"gpt-3.5-turbo-1106\",\n",
    "    messages=[\n",
    "    {\"role\": \"system\", \"content\": \"You are a helpful assistant designed to output JSON.\"},\n",
    "    {\"role\": \"user\", \"content\": prompt}],\n",
    "    response_format={ \"type\": \"json_object\" },\n",
    "    temperature=0.7,\n",
    "    max_tokens=256\n",
    ")"
   ]
  },
  {
   "cell_type": "code",
   "execution_count": 10,
   "id": "92342ff1-5db6-47b1-8115-6d97f78a50f5",
   "metadata": {},
   "outputs": [
    {
     "name": "stdout",
     "output_type": "stream",
     "text": [
      "\n",
      "  {\n",
      "    \"Costa_Rica\": {\n",
      "      \"reason\": \"Costa Rica is a popular tourist destination known for its stunning natural beauty, including lush rainforests, pristine beaches, and diverse wildlife. Visitors can explore the country's many national parks and reserves, go hiking or zip-lining through the treetops, and relax on picturesque beaches. Costa Rica also offers opportunities for adventure activities such as surfing, snorkeling, and wildlife watching. Additionally, the country is known for its commitment to sustainability and eco-tourism, making it an ideal destination for those seeking responsible and environmentally-friendly travel experiences.\"\n",
      "    }\n",
      "  }\n",
      "\n"
     ]
    }
   ],
   "source": [
    "print(response.choices[0].message.content)"
   ]
  }
 ],
 "metadata": {
  "kernelspec": {
   "display_name": "Python 3 (ipykernel)",
   "language": "python",
   "name": "python3"
  },
  "language_info": {
   "codemirror_mode": {
    "name": "ipython",
    "version": 3
   },
   "file_extension": ".py",
   "mimetype": "text/x-python",
   "name": "python",
   "nbconvert_exporter": "python",
   "pygments_lexer": "ipython3",
   "version": "3.9.1"
  }
 },
 "nbformat": 4,
 "nbformat_minor": 5
}
