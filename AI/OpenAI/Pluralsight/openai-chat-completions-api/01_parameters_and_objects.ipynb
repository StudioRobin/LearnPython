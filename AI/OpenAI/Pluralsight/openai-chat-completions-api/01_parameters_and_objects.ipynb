{
 "cells": [
  {
   "cell_type": "markdown",
   "id": "d7cf4b74-428e-42b8-8915-dd570d381179",
   "metadata": {},
   "source": [
    "# Parameters and Objects\n"
   ]
  },
  {
   "cell_type": "code",
   "execution_count": null,
   "id": "d9bbdd0c-5064-498f-bc73-e65253d1dffe",
   "metadata": {},
   "outputs": [],
   "source": [
    "from openai import OpenAI\n",
    "import inspect\n",
    "import os"
   ]
  },
  {
   "cell_type": "code",
   "execution_count": null,
   "id": "1915c78f-94e0-42d6-92ae-5dd8f99b7030",
   "metadata": {},
   "outputs": [],
   "source": [
    "client = OpenAI()"
   ]
  },
  {
   "cell_type": "code",
   "execution_count": null,
   "id": "ed3f8458-efb5-4517-be2e-b833feeba826",
   "metadata": {},
   "outputs": [],
   "source": [
    "inspect.signature(client.chat.completions.create)"
   ]
  },
  {
   "cell_type": "markdown",
   "id": "37db4061-613d-4a19-912e-b529db0fec02",
   "metadata": {},
   "source": [
    "\n",
    "**messages**: 'List[ChatCompletionMessageParam]'\n",
    "\n",
    "**model**: \"Union[str, Literal['gpt-4-1106-preview', 'gpt-4-vision-preview', 'gpt-4', 'gpt-4-0314', 'gpt-4-0613', 'gpt-4-32k', 'gpt-4-32k-0314', 'gpt-4-32k-0613', 'gpt-3.5-turbo-1106', 'gpt-3.5-turbo', 'gpt-3.5-turbo-16k', 'gpt-3.5-turbo-0301', 'gpt-3.5-turbo-0613', 'gpt-3.5-turbo-16k-0613']]\"\n",
    "\n",
    "**frequency_penalty**: 'Optional[float] | NotGiven' = NOT_GIVEN\n",
    " \n",
    "**function_call**: 'completion_create_params.FunctionCall | NotGiven' = NOT_GIVEN\n",
    " \n",
    "**functions**: 'List[completion_create_params.Function] | NotGiven' = NOT_GIVEN\n",
    " \n",
    "**logit_bias**: 'Optional[Dict[str, int]] | NotGiven' = NOT_GIVEN\n",
    " \n",
    "**max_tokens**: 'Optional[int] | NotGiven' = NOT_GIVEN\n",
    " \n",
    "**n**: 'Optional[int] | NotGiven' = NOT_GIVEN\n",
    " \n",
    "**presence_penalty**: 'Optional[float] | NotGiven' = NOT_GIVEN\n",
    " \n",
    "**response_format**: 'completion_create_params.ResponseFormat | NotGiven' = NOT_GIVEN\n",
    " \n",
    "**seed**: 'Optional[int] | NotGiven' = NOT_GIVEN\n",
    " \n",
    "**stop**: 'Union[Optional[str], List[str]] | NotGiven' = NOT_GIVEN\n",
    " \n",
    "**stream**: 'Optional[Literal[False]] | Literal[True] | NotGiven' = NOT_GIVEN\n",
    " \n",
    "**temperature**: 'Optional[float] | NotGiven' = NOT_GIVEN\n",
    " \n",
    "**tool_choice**: 'ChatCompletionToolChoiceOptionParam | NotGiven' = NOT_GIVEN\n",
    " \n",
    "**tools**: 'List[ChatCompletionToolParam] | NotGiven' = NOT_GIVEN\n",
    " \n",
    "**top_p**: 'Optional[float] | NotGiven' = NOT_GIVEN\n",
    " \n",
    "**user**: 'str | NotGiven' = NOT_GIVEN\n",
    " \n",
    "**extra_headers**: 'Headers | None' = None\n",
    " \n",
    "**extra_query**: 'Query | None' = None\n",
    "\n",
    "**extra_body**: 'Body | None' = None\n",
    " \n",
    "**timeout**: 'float | httpx.Timeout | None | NotGiven' = NOT_GIVEN) -> 'ChatCompletion | Stream[ChatCompletionChunk]"
   ]
  }
 ],
 "metadata": {
  "kernelspec": {
   "display_name": "Python 3 (ipykernel)",
   "language": "python",
   "name": "python3"
  },
  "language_info": {
   "codemirror_mode": {
    "name": "ipython",
    "version": 3
   },
   "file_extension": ".py",
   "mimetype": "text/x-python",
   "name": "python",
   "nbconvert_exporter": "python",
   "pygments_lexer": "ipython3",
   "version": "3.12.4"
  }
 },
 "nbformat": 4,
 "nbformat_minor": 5
}
