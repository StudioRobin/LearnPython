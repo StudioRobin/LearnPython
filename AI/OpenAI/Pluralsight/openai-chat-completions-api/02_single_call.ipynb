{
 "cells": [
  {
   "cell_type": "markdown",
   "id": "0d4805da-5c50-49ae-8110-98d9c25893db",
   "metadata": {},
   "source": [
    "# Calling the Chat Completions API"
   ]
  },
  {
   "cell_type": "code",
   "execution_count": 1,
   "id": "d8e19c0e-62ec-4199-b541-6bab62cc2008",
   "metadata": {},
   "outputs": [],
   "source": [
    "# !pip install --upgrade openai"
   ]
  },
  {
   "cell_type": "code",
   "execution_count": 2,
   "id": "7ef9510c-ffac-4a13-aff4-6daa60e1f64b",
   "metadata": {},
   "outputs": [],
   "source": [
    "from openai import OpenAI\n",
    "import os\n",
    "from pprint import pprint"
   ]
  },
  {
   "cell_type": "code",
   "execution_count": 3,
   "id": "0c1363c2-f815-4877-b78f-98ba64e14963",
   "metadata": {},
   "outputs": [],
   "source": [
    "# A recommended way to store the key is in an environment variable. For this demo, I am storing in a file.\n",
    "# key_location = 'C:\\ps-gen-openai-python\\key\\genaikey.txt'\n",
    "key_location = '/Users/xavier/github/xmorera/ps-generative-ai-developing-applications-python-openai/key/genaikey.txt'\n",
    "\n",
    "with open(key_location, 'r') as file:\n",
    "    key = file.readline().strip()"
   ]
  },
  {
   "cell_type": "code",
   "execution_count": 4,
   "id": "fadac579-bc27-436e-a521-99b7e34256dc",
   "metadata": {},
   "outputs": [],
   "source": [
    "# Set the key to authenticate with the API\n",
    "os.environ[\"OPENAI_API_KEY\"] = key"
   ]
  },
  {
   "cell_type": "code",
   "execution_count": 5,
   "id": "1f762013-9713-4810-b259-c4dc1b486819",
   "metadata": {},
   "outputs": [],
   "source": [
    "client = OpenAI()"
   ]
  },
  {
   "cell_type": "code",
   "execution_count": 6,
   "id": "85246714-e3d3-481b-837f-cdf48fa5be7a",
   "metadata": {},
   "outputs": [],
   "source": [
    "prompt = \"Tell me why Costa Rica is a good tourist destination in one paragraph.\""
   ]
  },
  {
   "cell_type": "code",
   "execution_count": 7,
   "id": "60d6995f-1c8f-48af-8afd-f9c1fb256494",
   "metadata": {},
   "outputs": [],
   "source": [
    "response = client.chat.completions.create(\n",
    "    model=\"gpt-3.5-turbo\",\n",
    "    messages=[{\"role\": \"user\",\"content\": prompt}],\n",
    "    temperature=0.7,\n",
    "    max_tokens=256\n",
    ")\n",
    "\n",
    "# response_format={ \"type\": \"json_object\" },"
   ]
  },
  {
   "cell_type": "code",
   "execution_count": 8,
   "id": "c5c7a126-7b20-47bc-984d-9af39350c07c",
   "metadata": {},
   "outputs": [
    {
     "name": "stdout",
     "output_type": "stream",
     "text": [
      "('Costa Rica is an exceptional tourist destination due to its stunning natural '\n",
      " 'beauty, diverse ecosystems, and commitment to sustainable tourism. With '\n",
      " 'picturesque beaches, lush rainforests, and majestic volcanoes, Costa Rica '\n",
      " 'offers a myriad of outdoor adventures such as zip-lining, hiking, and '\n",
      " 'surfing. This Central American gem is also home to incredible biodiversity, '\n",
      " 'making it a paradise for nature enthusiasts, where they can spot unique '\n",
      " \"wildlife like sloths, toucans, and monkeys. Moreover, Costa Rica's \"\n",
      " 'dedication to sustainable practices, including its extensive protected areas '\n",
      " \"and eco-lodges, ensures that visitors can experience the country's \"\n",
      " 'magnificence while minimizing their environmental impact. From adventure '\n",
      " 'seekers to eco-travelers, Costa Rica has something for everyone, making it '\n",
      " 'an unforgettable and responsible destination.')\n"
     ]
    }
   ],
   "source": [
    "pprint(response.choices[0].message.content)"
   ]
  },
  {
   "cell_type": "markdown",
   "id": "cb648592-5413-4bb8-a68e-9510e6244794",
   "metadata": {},
   "source": [
    "## Response"
   ]
  },
  {
   "cell_type": "code",
   "execution_count": 9,
   "id": "c0dd3955-69e6-4adc-aa67-c21239a68290",
   "metadata": {},
   "outputs": [
    {
     "name": "stdout",
     "output_type": "stream",
     "text": [
      "{'choices': [Choice(finish_reason='stop', index=0, message=ChatCompletionMessage(content=\"Costa Rica is an exceptional tourist destination due to its stunning natural beauty, diverse ecosystems, and commitment to sustainable tourism. With picturesque beaches, lush rainforests, and majestic volcanoes, Costa Rica offers a myriad of outdoor adventures such as zip-lining, hiking, and surfing. This Central American gem is also home to incredible biodiversity, making it a paradise for nature enthusiasts, where they can spot unique wildlife like sloths, toucans, and monkeys. Moreover, Costa Rica's dedication to sustainable practices, including its extensive protected areas and eco-lodges, ensures that visitors can experience the country's magnificence while minimizing their environmental impact. From adventure seekers to eco-travelers, Costa Rica has something for everyone, making it an unforgettable and responsible destination.\", role='assistant', function_call=None, tool_calls=None))],\n",
      " 'created': 1701294070,\n",
      " 'id': 'chatcmpl-8QMasHabQT2CkY15iTZHMfPRhnlKF',\n",
      " 'model': 'gpt-3.5-turbo-0613',\n",
      " 'object': 'chat.completion',\n",
      " 'system_fingerprint': None,\n",
      " 'usage': CompletionUsage(completion_tokens=155, prompt_tokens=21, total_tokens=176)}\n"
     ]
    }
   ],
   "source": [
    "pprint(vars(response))"
   ]
  },
  {
   "cell_type": "markdown",
   "id": "56b759b0-96f1-4cb3-bde1-9390a27e1c01",
   "metadata": {},
   "source": [
    "## Creating Conversations"
   ]
  },
  {
   "cell_type": "markdown",
   "id": "0ce2182a-04ab-4c0e-ae81-2be0fc1513c7",
   "metadata": {},
   "source": [
    "**Try this!**\n",
    "\n",
    "Tell it your name and then ask it if it knows your name. It won't know as it is a single call without persisting messages."
   ]
  },
  {
   "cell_type": "code",
   "execution_count": 10,
   "id": "863dd1d8-c5e7-4954-a702-317dc4c48660",
   "metadata": {},
   "outputs": [],
   "source": [
    "response = client.chat.completions.create(\n",
    "    model=\"gpt-3.5-turbo\",\n",
    "    messages=[{\"role\": \"user\",\"content\": \"My name is Xavier\"}],\n",
    "    temperature=0.7,\n",
    "    max_tokens=256\n",
    ")"
   ]
  },
  {
   "cell_type": "code",
   "execution_count": 11,
   "id": "46172734-6aa0-4e05-b231-fa716625d57d",
   "metadata": {},
   "outputs": [
    {
     "name": "stdout",
     "output_type": "stream",
     "text": [
      "'Nice to meet you, Xavier! How can I assist you today?'\n"
     ]
    }
   ],
   "source": [
    "pprint(response.choices[0].message.content)"
   ]
  },
  {
   "cell_type": "code",
   "execution_count": 12,
   "id": "4e773bd7-d400-484f-ac45-ee664f63a64a",
   "metadata": {},
   "outputs": [],
   "source": [
    "response = client.chat.completions.create(\n",
    "    model=\"gpt-3.5-turbo\",\n",
    "    messages=[{\"role\": \"user\",\"content\": \"What is my name?\"}],\n",
    "    temperature=0.7,\n",
    "    max_tokens=256\n",
    ")"
   ]
  },
  {
   "cell_type": "code",
   "execution_count": 13,
   "id": "9b75299e-4f7f-4806-ac22-c65ed4a164a2",
   "metadata": {},
   "outputs": [
    {
     "name": "stdout",
     "output_type": "stream",
     "text": [
      "(\"I'm sorry, but I don't have access to personal information about individuals \"\n",
      " 'unless it has been shared with me in the course of our conversation.')\n"
     ]
    }
   ],
   "source": [
    "pprint(response.choices[0].message.content)"
   ]
  }
 ],
 "metadata": {
  "kernelspec": {
   "display_name": "Python 3 (ipykernel)",
   "language": "python",
   "name": "python3"
  },
  "language_info": {
   "codemirror_mode": {
    "name": "ipython",
    "version": 3
   },
   "file_extension": ".py",
   "mimetype": "text/x-python",
   "name": "python",
   "nbconvert_exporter": "python",
   "pygments_lexer": "ipython3",
   "version": "3.9.1"
  }
 },
 "nbformat": 4,
 "nbformat_minor": 5
}
