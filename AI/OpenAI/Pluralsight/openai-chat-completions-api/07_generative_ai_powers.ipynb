{
 "cells": [
  {
   "cell_type": "markdown",
   "id": "0d4805da-5c50-49ae-8110-98d9c25893db",
   "metadata": {},
   "source": [
    "# Using the Chat Completions API Generative AI Powers"
   ]
  },
  {
   "cell_type": "code",
   "execution_count": 2,
   "id": "7ef9510c-ffac-4a13-aff4-6daa60e1f64b",
   "metadata": {},
   "outputs": [],
   "source": [
    "from openai import OpenAI\n",
    "import os\n",
    "import json"
   ]
  },
  {
   "cell_type": "code",
   "execution_count": 5,
   "id": "1f762013-9713-4810-b259-c4dc1b486819",
   "metadata": {},
   "outputs": [],
   "source": [
    "client = OpenAI()"
   ]
  },
  {
   "cell_type": "code",
   "execution_count": 6,
   "id": "85246714-e3d3-481b-837f-cdf48fa5be7a",
   "metadata": {},
   "outputs": [],
   "source": [
    "prompt = \"\"\n",
    "chat_messages = []"
   ]
  },
  {
   "cell_type": "code",
   "execution_count": 7,
   "id": "bbe91826-2a4d-4ab1-a4bb-be2fa29a2283",
   "metadata": {},
   "outputs": [],
   "source": [
    "def process_chat_request(prompt):\n",
    "    chat_messages.append({\"role\": \"user\",\"content\": prompt})\n",
    "    \n",
    "    response = client.chat.completions.create(\n",
    "        model=\"gpt-3.5-turbo\",\n",
    "        messages = chat_messages,\n",
    "        temperature=0.7\n",
    "    )\n",
    "    # Append the response to messages\n",
    "    response_content = response.choices[0].message.content\n",
    "    chat_messages.append({\"role\": \"assistant\",\"content\": response_content})\n",
    "     \n",
    "    print(json.dumps(chat_messages, indent=2))\n",
    "    \n",
    "    # Return the response content\n",
    "    return response_content "
   ]
  },
  {
   "cell_type": "code",
   "execution_count": 8,
   "id": "5453ae49-16b0-4eb3-97f1-d9cfada7c1c3",
   "metadata": {},
   "outputs": [],
   "source": [
    "# Set the system message\n",
    "system_message = \"You are a helpful assistant\"\n",
    "chat_messages = [{\"role\": \"system\", \"content\": system_message}]"
   ]
  },
  {
   "cell_type": "code",
   "execution_count": 9,
   "id": "60d6995f-1c8f-48af-8afd-f9c1fb256494",
   "metadata": {},
   "outputs": [
    {
     "name": "stdout",
     "output_type": "stream",
     "text": [
      "Hello, how can I help you?\n"
     ]
    }
   ],
   "source": [
    "print(\"Hello, how can I help you?\")"
   ]
  },
  {
   "cell_type": "markdown",
   "id": "19d1e344-d5e7-441d-a987-540cb4b9166c",
   "metadata": {},
   "source": [
    "## Demo\n",
    "Demonstrates how to call the Chat Completions API, persisting the messages. Shows a dialog, the generative powers of the API by writing a story, and then translation capabilities.\n",
    "\n",
    "Prompts:\n",
    "- Write a short story about a traveling computer programmer\n",
    "- Translate the story into Spanish\n",
    "- Correct the following \n",
    "\n",
    "Also, tests grammar correction skills with this sentence:\n",
    "\"To accomodate the increasing demands of our project, my colleague and I worked conscientiously to acquire necesary resources, reaching a consensus on the aparent need for a better acknowlegement system to track our deadlines on the calendar.\"\n",
    "\n",
    "Correct version: \"To accommodate the increasing demands of our project, my colleague and I worked conscientiously to acquire necessary resources, reaching a consensus on the apparent need for a better acknowledgment system to track our deadlines on the calendar.\""
   ]
  },
  {
   "cell_type": "code",
   "execution_count": null,
   "id": "c0dd3955-69e6-4adc-aa67-c21239a68290",
   "metadata": {},
   "outputs": [
    {
     "name": "stdout",
     "output_type": "stream",
     "text": [
      "Prompt: \n",
      "\n"
     ]
    },
    {
     "name": "stdout",
     "output_type": "stream",
     "text": [
      " Write a short story about a traveling computer programmer.\n"
     ]
    },
    {
     "name": "stdout",
     "output_type": "stream",
     "text": [
      "[\n",
      "  {\n",
      "    \"role\": \"system\",\n",
      "    \"content\": \"You are a helpful assistant\"\n",
      "  },\n",
      "  {\n",
      "    \"role\": \"user\",\n",
      "    \"content\": \"Write a short story about a traveling computer programmer.\"\n",
      "  },\n",
      "  {\n",
      "    \"role\": \"assistant\",\n",
      "    \"content\": \"Once upon a time, in a small town nestled among rolling hills, lived a young computer programmer named Alex. Unlike most people in the town, Alex had a burning desire for adventure and a love for exploring new places. Every day, Alex would sit in front of a computer screen, writing code and developing innovative programs. But deep down, a yearning to break free from the confines of the office walls grew stronger with each passing day.\\n\\nOne sunny morning, as Alex gazed out of the window, the sight of a flock of birds flying across the clear blue sky sparked an idea. \\\"Why should I be stuck in one place when there is a whole world waiting to be explored?\\\" thought Alex.\\n\\nWith a newfound determination, Alex packed a small bag, filled with a laptop, cables, and a few essentials, and set off on an adventure as a traveling computer programmer.\\n\\nThe first destination on Alex's journey was a bustling city by the sea. As the waves crashed against the shore, Alex found a cozy caf\\u00e9 and set up a temporary workstation. From there, Alex would spend the days working on coding projects, with the refreshing ocean breeze as inspiration. At night, Alex would wander through the vibrant streets, soaking in the energy of the city.\\n\\nAs days turned into weeks, Alex continued to move from place to place, embracing the nomadic lifestyle. Each new location brought fresh perspectives and ideas, which were reflected in the intricate lines of code that Alex wrote.\\n\\nIn the mountains, surrounded by towering peaks and lush green valleys, Alex found solace and tranquility. Sitting under a tall pine tree, Alex would let the beauty of nature seep into the work. The serene surroundings breathed life into the code, making it more elegant and efficient.\\n\\nIn a quaint village nestled in a remote corner of the world, Alex discovered a community of like-minded individuals. They were artists, writers, and programmers, all seeking inspiration from the world around them. Together, they would exchange ideas and collaborate on projects that merged creativity and technology.\\n\\nThroughout the journey, Alex encountered challenges that tested skills and resilience. Sometimes, finding a stable internet connection proved to be a hurdle. Yet, Alex adapted, using offline tools and leveraging the local community's resources. The obstacles only made the journey more thrilling, and the solutions more ingenious.\\n\\nOver time, word spread about the traveling computer programmer who brought innovation to every corner of the world. Companies sought Alex's expertise, and conferences invited Alex to share stories of the nomadic life and its impact on creativity.\\n\\nAs the years went by, Alex's journey was no longer just about personal growth. It became a mission to inspire others to break free from their comfort zones and embrace the world as a playground for their creativity. Alex's story became a symbol of the limitless possibilities that lie beyond the confines of a traditional office.\\n\\nAnd so, the tale of the traveling computer programmer continued, inspiring dreamers and adventurers to blend their passions with their work, and to let the world fuel their creativity. As for Alex, each new destination was not just a place on the map but an opportunity to make a lasting impact on the world, one line of code at a time.\"\n",
      "  }\n",
      "]\n",
      "Response: \n",
      "Once upon a time, in a small town nestled among rolling hills, lived a young computer programmer named Alex. Unlike most people in the town, Alex had a burning desire for adventure and a love for exploring new places. Every day, Alex would sit in front of a computer screen, writing code and developing innovative programs. But deep down, a yearning to break free from the confines of the office walls grew stronger with each passing day.\n",
      "\n",
      "One sunny morning, as Alex gazed out of the window, the sight of a flock of birds flying across the clear blue sky sparked an idea. \"Why should I be stuck in one place when there is a whole world waiting to be explored?\" thought Alex.\n",
      "\n",
      "With a newfound determination, Alex packed a small bag, filled with a laptop, cables, and a few essentials, and set off on an adventure as a traveling computer programmer.\n",
      "\n",
      "The first destination on Alex's journey was a bustling city by the sea. As the waves crashed against the shore, Alex found a cozy café and set up a temporary workstation. From there, Alex would spend the days working on coding projects, with the refreshing ocean breeze as inspiration. At night, Alex would wander through the vibrant streets, soaking in the energy of the city.\n",
      "\n",
      "As days turned into weeks, Alex continued to move from place to place, embracing the nomadic lifestyle. Each new location brought fresh perspectives and ideas, which were reflected in the intricate lines of code that Alex wrote.\n",
      "\n",
      "In the mountains, surrounded by towering peaks and lush green valleys, Alex found solace and tranquility. Sitting under a tall pine tree, Alex would let the beauty of nature seep into the work. The serene surroundings breathed life into the code, making it more elegant and efficient.\n",
      "\n",
      "In a quaint village nestled in a remote corner of the world, Alex discovered a community of like-minded individuals. They were artists, writers, and programmers, all seeking inspiration from the world around them. Together, they would exchange ideas and collaborate on projects that merged creativity and technology.\n",
      "\n",
      "Throughout the journey, Alex encountered challenges that tested skills and resilience. Sometimes, finding a stable internet connection proved to be a hurdle. Yet, Alex adapted, using offline tools and leveraging the local community's resources. The obstacles only made the journey more thrilling, and the solutions more ingenious.\n",
      "\n",
      "Over time, word spread about the traveling computer programmer who brought innovation to every corner of the world. Companies sought Alex's expertise, and conferences invited Alex to share stories of the nomadic life and its impact on creativity.\n",
      "\n",
      "As the years went by, Alex's journey was no longer just about personal growth. It became a mission to inspire others to break free from their comfort zones and embrace the world as a playground for their creativity. Alex's story became a symbol of the limitless possibilities that lie beyond the confines of a traditional office.\n",
      "\n",
      "And so, the tale of the traveling computer programmer continued, inspiring dreamers and adventurers to blend their passions with their work, and to let the world fuel their creativity. As for Alex, each new destination was not just a place on the map but an opportunity to make a lasting impact on the world, one line of code at a time.\n",
      "Prompt: \n",
      "\n"
     ]
    },
    {
     "name": "stdout",
     "output_type": "stream",
     "text": [
      " Translate the story into Spanish\n"
     ]
    },
    {
     "name": "stdout",
     "output_type": "stream",
     "text": [
      "[\n",
      "  {\n",
      "    \"role\": \"system\",\n",
      "    \"content\": \"You are a helpful assistant\"\n",
      "  },\n",
      "  {\n",
      "    \"role\": \"user\",\n",
      "    \"content\": \"Write a short story about a traveling computer programmer.\"\n",
      "  },\n",
      "  {\n",
      "    \"role\": \"assistant\",\n",
      "    \"content\": \"Once upon a time, in a small town nestled among rolling hills, lived a young computer programmer named Alex. Unlike most people in the town, Alex had a burning desire for adventure and a love for exploring new places. Every day, Alex would sit in front of a computer screen, writing code and developing innovative programs. But deep down, a yearning to break free from the confines of the office walls grew stronger with each passing day.\\n\\nOne sunny morning, as Alex gazed out of the window, the sight of a flock of birds flying across the clear blue sky sparked an idea. \\\"Why should I be stuck in one place when there is a whole world waiting to be explored?\\\" thought Alex.\\n\\nWith a newfound determination, Alex packed a small bag, filled with a laptop, cables, and a few essentials, and set off on an adventure as a traveling computer programmer.\\n\\nThe first destination on Alex's journey was a bustling city by the sea. As the waves crashed against the shore, Alex found a cozy caf\\u00e9 and set up a temporary workstation. From there, Alex would spend the days working on coding projects, with the refreshing ocean breeze as inspiration. At night, Alex would wander through the vibrant streets, soaking in the energy of the city.\\n\\nAs days turned into weeks, Alex continued to move from place to place, embracing the nomadic lifestyle. Each new location brought fresh perspectives and ideas, which were reflected in the intricate lines of code that Alex wrote.\\n\\nIn the mountains, surrounded by towering peaks and lush green valleys, Alex found solace and tranquility. Sitting under a tall pine tree, Alex would let the beauty of nature seep into the work. The serene surroundings breathed life into the code, making it more elegant and efficient.\\n\\nIn a quaint village nestled in a remote corner of the world, Alex discovered a community of like-minded individuals. They were artists, writers, and programmers, all seeking inspiration from the world around them. Together, they would exchange ideas and collaborate on projects that merged creativity and technology.\\n\\nThroughout the journey, Alex encountered challenges that tested skills and resilience. Sometimes, finding a stable internet connection proved to be a hurdle. Yet, Alex adapted, using offline tools and leveraging the local community's resources. The obstacles only made the journey more thrilling, and the solutions more ingenious.\\n\\nOver time, word spread about the traveling computer programmer who brought innovation to every corner of the world. Companies sought Alex's expertise, and conferences invited Alex to share stories of the nomadic life and its impact on creativity.\\n\\nAs the years went by, Alex's journey was no longer just about personal growth. It became a mission to inspire others to break free from their comfort zones and embrace the world as a playground for their creativity. Alex's story became a symbol of the limitless possibilities that lie beyond the confines of a traditional office.\\n\\nAnd so, the tale of the traveling computer programmer continued, inspiring dreamers and adventurers to blend their passions with their work, and to let the world fuel their creativity. As for Alex, each new destination was not just a place on the map but an opportunity to make a lasting impact on the world, one line of code at a time.\"\n",
      "  },\n",
      "  {\n",
      "    \"role\": \"user\",\n",
      "    \"content\": \"Translate the story into Spanish\"\n",
      "  },\n",
      "  {\n",
      "    \"role\": \"assistant\",\n",
      "    \"content\": \"\\u00c9rase una vez, en un peque\\u00f1o pueblo enclavado entre colinas, viv\\u00eda un joven programador inform\\u00e1tico llamado Alex. A diferencia de la mayor\\u00eda de las personas del pueblo, Alex ten\\u00eda un ardiente deseo de aventura y un amor por explorar nuevos lugares. Todos los d\\u00edas, Alex se sentaba frente a una pantalla de computadora, escribiendo c\\u00f3digo y desarrollando programas innovadores. Pero en lo m\\u00e1s profundo, crec\\u00eda un anhelo de liberarse de los confines de las paredes de la oficina con cada d\\u00eda que pasaba.\\n\\nUna soleada ma\\u00f1ana, mientras Alex contemplaba por la ventana, la visi\\u00f3n de una bandada de p\\u00e1jaros volando a trav\\u00e9s del cielo azul claro despert\\u00f3 una idea. \\\"\\u00bfPor qu\\u00e9 deber\\u00eda quedarme atrapado en un solo lugar cuando hay todo un mundo esperando ser explorado?\\\", pens\\u00f3 Alex.\\n\\nCon una nueva determinaci\\u00f3n, Alex empac\\u00f3 una peque\\u00f1a bolsa, llen\\u00f3 una laptop, cables y algunas cosas esenciales, y se embarc\\u00f3 en una aventura como programador inform\\u00e1tico viajero.\\n\\nEl primer destino en el viaje de Alex fue una bulliciosa ciudad junto al mar. Mientras las olas chocaban contra la costa, Alex encontr\\u00f3 un acogedor caf\\u00e9 y mont\\u00f3 una estaci\\u00f3n de trabajo temporal. Desde all\\u00ed, Alex pasaba los d\\u00edas trabajando en proyectos de codificaci\\u00f3n, con la refrescante brisa del oc\\u00e9ano como inspiraci\\u00f3n. Por las noches, Alex se paseaba por las vibrantes calles, absorbiendo la energ\\u00eda de la ciudad.\\n\\nA medida que los d\\u00edas se convert\\u00edan en semanas, Alex segu\\u00eda movi\\u00e9ndose de un lugar a otro, abrazando el estilo de vida n\\u00f3mada. Cada nueva ubicaci\\u00f3n tra\\u00eda perspectivas e ideas frescas, que se reflejaban en las l\\u00edneas de c\\u00f3digo intrincadas que Alex escrib\\u00eda.\\n\\nEn las monta\\u00f1as, rodeado de picos imponentes y exuberantes valles verdes, Alex encontr\\u00f3 consuelo y tranquilidad. Sentado bajo un alto pino, Alex dejaba que la belleza de la naturaleza impregnara su trabajo. El entorno sereno daba vida al c\\u00f3digo, haci\\u00e9ndolo m\\u00e1s elegante y eficiente.\\n\\nEn un pintoresco pueblo escondido en un rinc\\u00f3n remoto del mundo, Alex descubri\\u00f3 una comunidad de personas afines. Eran artistas, escritores y programadores, todos buscando inspiraci\\u00f3n en el mundo que los rodeaba. Juntos, intercambiaban ideas y colaboraban en proyectos que fusionaban la creatividad y la tecnolog\\u00eda.\\n\\nA lo largo del viaje, Alex encontr\\u00f3 desaf\\u00edos que pusieron a prueba sus habilidades y resistencia. A veces, encontrar una conexi\\u00f3n a internet estable resultaba ser un obst\\u00e1culo. Sin embargo, Alex se adaptaba, utilizando herramientas sin conexi\\u00f3n y aprovechando los recursos de la comunidad local. Los obst\\u00e1culos solo hac\\u00edan que el viaje fuera m\\u00e1s emocionante y las soluciones m\\u00e1s ingeniosas.\\n\\nCon el tiempo, se corri\\u00f3 la voz sobre el programador inform\\u00e1tico viajero que llevaba innovaci\\u00f3n a cada rinc\\u00f3n del mundo. Las empresas buscaban la experiencia de Alex y las conferencias invitaban a Alex a compartir historias de la vida n\\u00f3mada y su impacto en la creatividad.\\n\\nA medida que pasaban los a\\u00f1os, el viaje de Alex ya no era solo sobre el crecimiento personal. Se convirti\\u00f3 en una misi\\u00f3n para inspirar a otros a romper con su zona de confort y abrazar el mundo como un patio de recreo para su creatividad. La historia de Alex se convirti\\u00f3 en un s\\u00edmbolo de las posibilidades ilimitadas que se encuentran m\\u00e1s all\\u00e1 de las paredes de una oficina tradicional.\\n\\nY as\\u00ed, la historia del programador inform\\u00e1tico viajero continu\\u00f3, inspirando a so\\u00f1adores y aventureros a fusionar sus pasiones con su trabajo y a dejar que el mundo alimentara su creatividad. En cuanto a Alex, cada nuevo destino no era solo un lugar en el mapa, sino una oportunidad para dejar un impacto duradero en el mundo, una l\\u00ednea de c\\u00f3digo a la vez.\"\n",
      "  }\n",
      "]\n",
      "Response: \n",
      "Érase una vez, en un pequeño pueblo enclavado entre colinas, vivía un joven programador informático llamado Alex. A diferencia de la mayoría de las personas del pueblo, Alex tenía un ardiente deseo de aventura y un amor por explorar nuevos lugares. Todos los días, Alex se sentaba frente a una pantalla de computadora, escribiendo código y desarrollando programas innovadores. Pero en lo más profundo, crecía un anhelo de liberarse de los confines de las paredes de la oficina con cada día que pasaba.\n",
      "\n",
      "Una soleada mañana, mientras Alex contemplaba por la ventana, la visión de una bandada de pájaros volando a través del cielo azul claro despertó una idea. \"¿Por qué debería quedarme atrapado en un solo lugar cuando hay todo un mundo esperando ser explorado?\", pensó Alex.\n",
      "\n",
      "Con una nueva determinación, Alex empacó una pequeña bolsa, llenó una laptop, cables y algunas cosas esenciales, y se embarcó en una aventura como programador informático viajero.\n",
      "\n",
      "El primer destino en el viaje de Alex fue una bulliciosa ciudad junto al mar. Mientras las olas chocaban contra la costa, Alex encontró un acogedor café y montó una estación de trabajo temporal. Desde allí, Alex pasaba los días trabajando en proyectos de codificación, con la refrescante brisa del océano como inspiración. Por las noches, Alex se paseaba por las vibrantes calles, absorbiendo la energía de la ciudad.\n",
      "\n",
      "A medida que los días se convertían en semanas, Alex seguía moviéndose de un lugar a otro, abrazando el estilo de vida nómada. Cada nueva ubicación traía perspectivas e ideas frescas, que se reflejaban en las líneas de código intrincadas que Alex escribía.\n",
      "\n",
      "En las montañas, rodeado de picos imponentes y exuberantes valles verdes, Alex encontró consuelo y tranquilidad. Sentado bajo un alto pino, Alex dejaba que la belleza de la naturaleza impregnara su trabajo. El entorno sereno daba vida al código, haciéndolo más elegante y eficiente.\n",
      "\n",
      "En un pintoresco pueblo escondido en un rincón remoto del mundo, Alex descubrió una comunidad de personas afines. Eran artistas, escritores y programadores, todos buscando inspiración en el mundo que los rodeaba. Juntos, intercambiaban ideas y colaboraban en proyectos que fusionaban la creatividad y la tecnología.\n",
      "\n",
      "A lo largo del viaje, Alex encontró desafíos que pusieron a prueba sus habilidades y resistencia. A veces, encontrar una conexión a internet estable resultaba ser un obstáculo. Sin embargo, Alex se adaptaba, utilizando herramientas sin conexión y aprovechando los recursos de la comunidad local. Los obstáculos solo hacían que el viaje fuera más emocionante y las soluciones más ingeniosas.\n",
      "\n",
      "Con el tiempo, se corrió la voz sobre el programador informático viajero que llevaba innovación a cada rincón del mundo. Las empresas buscaban la experiencia de Alex y las conferencias invitaban a Alex a compartir historias de la vida nómada y su impacto en la creatividad.\n",
      "\n",
      "A medida que pasaban los años, el viaje de Alex ya no era solo sobre el crecimiento personal. Se convirtió en una misión para inspirar a otros a romper con su zona de confort y abrazar el mundo como un patio de recreo para su creatividad. La historia de Alex se convirtió en un símbolo de las posibilidades ilimitadas que se encuentran más allá de las paredes de una oficina tradicional.\n",
      "\n",
      "Y así, la historia del programador informático viajero continuó, inspirando a soñadores y aventureros a fusionar sus pasiones con su trabajo y a dejar que el mundo alimentara su creatividad. En cuanto a Alex, cada nuevo destino no era solo un lugar en el mapa, sino una oportunidad para dejar un impacto duradero en el mundo, una línea de código a la vez.\n",
      "Prompt: \n",
      "\n"
     ]
    },
    {
     "name": "stdout",
     "output_type": "stream",
     "text": [
      " Correct any grammar mistakes in this sentence: \"To accomodate the increasing demands of our project, my colleague and I worked conscientiously to acquire necesary resources, reaching a consensus on the aparent need for a better acknowlegement system to track our deadlines on the calendar.\"\n"
     ]
    },
    {
     "name": "stdout",
     "output_type": "stream",
     "text": [
      "[\n",
      "  {\n",
      "    \"role\": \"system\",\n",
      "    \"content\": \"You are a helpful assistant\"\n",
      "  },\n",
      "  {\n",
      "    \"role\": \"user\",\n",
      "    \"content\": \"Write a short story about a traveling computer programmer.\"\n",
      "  },\n",
      "  {\n",
      "    \"role\": \"assistant\",\n",
      "    \"content\": \"Once upon a time, in a small town nestled among rolling hills, lived a young computer programmer named Alex. Unlike most people in the town, Alex had a burning desire for adventure and a love for exploring new places. Every day, Alex would sit in front of a computer screen, writing code and developing innovative programs. But deep down, a yearning to break free from the confines of the office walls grew stronger with each passing day.\\n\\nOne sunny morning, as Alex gazed out of the window, the sight of a flock of birds flying across the clear blue sky sparked an idea. \\\"Why should I be stuck in one place when there is a whole world waiting to be explored?\\\" thought Alex.\\n\\nWith a newfound determination, Alex packed a small bag, filled with a laptop, cables, and a few essentials, and set off on an adventure as a traveling computer programmer.\\n\\nThe first destination on Alex's journey was a bustling city by the sea. As the waves crashed against the shore, Alex found a cozy caf\\u00e9 and set up a temporary workstation. From there, Alex would spend the days working on coding projects, with the refreshing ocean breeze as inspiration. At night, Alex would wander through the vibrant streets, soaking in the energy of the city.\\n\\nAs days turned into weeks, Alex continued to move from place to place, embracing the nomadic lifestyle. Each new location brought fresh perspectives and ideas, which were reflected in the intricate lines of code that Alex wrote.\\n\\nIn the mountains, surrounded by towering peaks and lush green valleys, Alex found solace and tranquility. Sitting under a tall pine tree, Alex would let the beauty of nature seep into the work. The serene surroundings breathed life into the code, making it more elegant and efficient.\\n\\nIn a quaint village nestled in a remote corner of the world, Alex discovered a community of like-minded individuals. They were artists, writers, and programmers, all seeking inspiration from the world around them. Together, they would exchange ideas and collaborate on projects that merged creativity and technology.\\n\\nThroughout the journey, Alex encountered challenges that tested skills and resilience. Sometimes, finding a stable internet connection proved to be a hurdle. Yet, Alex adapted, using offline tools and leveraging the local community's resources. The obstacles only made the journey more thrilling, and the solutions more ingenious.\\n\\nOver time, word spread about the traveling computer programmer who brought innovation to every corner of the world. Companies sought Alex's expertise, and conferences invited Alex to share stories of the nomadic life and its impact on creativity.\\n\\nAs the years went by, Alex's journey was no longer just about personal growth. It became a mission to inspire others to break free from their comfort zones and embrace the world as a playground for their creativity. Alex's story became a symbol of the limitless possibilities that lie beyond the confines of a traditional office.\\n\\nAnd so, the tale of the traveling computer programmer continued, inspiring dreamers and adventurers to blend their passions with their work, and to let the world fuel their creativity. As for Alex, each new destination was not just a place on the map but an opportunity to make a lasting impact on the world, one line of code at a time.\"\n",
      "  },\n",
      "  {\n",
      "    \"role\": \"user\",\n",
      "    \"content\": \"Translate the story into Spanish\"\n",
      "  },\n",
      "  {\n",
      "    \"role\": \"assistant\",\n",
      "    \"content\": \"\\u00c9rase una vez, en un peque\\u00f1o pueblo enclavado entre colinas, viv\\u00eda un joven programador inform\\u00e1tico llamado Alex. A diferencia de la mayor\\u00eda de las personas del pueblo, Alex ten\\u00eda un ardiente deseo de aventura y un amor por explorar nuevos lugares. Todos los d\\u00edas, Alex se sentaba frente a una pantalla de computadora, escribiendo c\\u00f3digo y desarrollando programas innovadores. Pero en lo m\\u00e1s profundo, crec\\u00eda un anhelo de liberarse de los confines de las paredes de la oficina con cada d\\u00eda que pasaba.\\n\\nUna soleada ma\\u00f1ana, mientras Alex contemplaba por la ventana, la visi\\u00f3n de una bandada de p\\u00e1jaros volando a trav\\u00e9s del cielo azul claro despert\\u00f3 una idea. \\\"\\u00bfPor qu\\u00e9 deber\\u00eda quedarme atrapado en un solo lugar cuando hay todo un mundo esperando ser explorado?\\\", pens\\u00f3 Alex.\\n\\nCon una nueva determinaci\\u00f3n, Alex empac\\u00f3 una peque\\u00f1a bolsa, llen\\u00f3 una laptop, cables y algunas cosas esenciales, y se embarc\\u00f3 en una aventura como programador inform\\u00e1tico viajero.\\n\\nEl primer destino en el viaje de Alex fue una bulliciosa ciudad junto al mar. Mientras las olas chocaban contra la costa, Alex encontr\\u00f3 un acogedor caf\\u00e9 y mont\\u00f3 una estaci\\u00f3n de trabajo temporal. Desde all\\u00ed, Alex pasaba los d\\u00edas trabajando en proyectos de codificaci\\u00f3n, con la refrescante brisa del oc\\u00e9ano como inspiraci\\u00f3n. Por las noches, Alex se paseaba por las vibrantes calles, absorbiendo la energ\\u00eda de la ciudad.\\n\\nA medida que los d\\u00edas se convert\\u00edan en semanas, Alex segu\\u00eda movi\\u00e9ndose de un lugar a otro, abrazando el estilo de vida n\\u00f3mada. Cada nueva ubicaci\\u00f3n tra\\u00eda perspectivas e ideas frescas, que se reflejaban en las l\\u00edneas de c\\u00f3digo intrincadas que Alex escrib\\u00eda.\\n\\nEn las monta\\u00f1as, rodeado de picos imponentes y exuberantes valles verdes, Alex encontr\\u00f3 consuelo y tranquilidad. Sentado bajo un alto pino, Alex dejaba que la belleza de la naturaleza impregnara su trabajo. El entorno sereno daba vida al c\\u00f3digo, haci\\u00e9ndolo m\\u00e1s elegante y eficiente.\\n\\nEn un pintoresco pueblo escondido en un rinc\\u00f3n remoto del mundo, Alex descubri\\u00f3 una comunidad de personas afines. Eran artistas, escritores y programadores, todos buscando inspiraci\\u00f3n en el mundo que los rodeaba. Juntos, intercambiaban ideas y colaboraban en proyectos que fusionaban la creatividad y la tecnolog\\u00eda.\\n\\nA lo largo del viaje, Alex encontr\\u00f3 desaf\\u00edos que pusieron a prueba sus habilidades y resistencia. A veces, encontrar una conexi\\u00f3n a internet estable resultaba ser un obst\\u00e1culo. Sin embargo, Alex se adaptaba, utilizando herramientas sin conexi\\u00f3n y aprovechando los recursos de la comunidad local. Los obst\\u00e1culos solo hac\\u00edan que el viaje fuera m\\u00e1s emocionante y las soluciones m\\u00e1s ingeniosas.\\n\\nCon el tiempo, se corri\\u00f3 la voz sobre el programador inform\\u00e1tico viajero que llevaba innovaci\\u00f3n a cada rinc\\u00f3n del mundo. Las empresas buscaban la experiencia de Alex y las conferencias invitaban a Alex a compartir historias de la vida n\\u00f3mada y su impacto en la creatividad.\\n\\nA medida que pasaban los a\\u00f1os, el viaje de Alex ya no era solo sobre el crecimiento personal. Se convirti\\u00f3 en una misi\\u00f3n para inspirar a otros a romper con su zona de confort y abrazar el mundo como un patio de recreo para su creatividad. La historia de Alex se convirti\\u00f3 en un s\\u00edmbolo de las posibilidades ilimitadas que se encuentran m\\u00e1s all\\u00e1 de las paredes de una oficina tradicional.\\n\\nY as\\u00ed, la historia del programador inform\\u00e1tico viajero continu\\u00f3, inspirando a so\\u00f1adores y aventureros a fusionar sus pasiones con su trabajo y a dejar que el mundo alimentara su creatividad. En cuanto a Alex, cada nuevo destino no era solo un lugar en el mapa, sino una oportunidad para dejar un impacto duradero en el mundo, una l\\u00ednea de c\\u00f3digo a la vez.\"\n",
      "  },\n",
      "  {\n",
      "    \"role\": \"user\",\n",
      "    \"content\": \"Correct any grammar mistakes in this sentence: \\\"To accomodate the increasing demands of our project, my colleague and I worked conscientiously to acquire necesary resources, reaching a consensus on the aparent need for a better acknowlegement system to track our deadlines on the calendar.\\\"\"\n",
      "  },\n",
      "  {\n",
      "    \"role\": \"assistant\",\n",
      "    \"content\": \"To accommodate the increasing demands of our project, my colleague and I worked conscientiously to acquire necessary resources, reaching a consensus on the apparent need for a better acknowledgment system to track our deadlines on the calendar.\"\n",
      "  }\n",
      "]\n",
      "Response: \n",
      "To accommodate the increasing demands of our project, my colleague and I worked conscientiously to acquire necessary resources, reaching a consensus on the apparent need for a better acknowledgment system to track our deadlines on the calendar.\n",
      "Prompt: \n",
      "\n"
     ]
    }
   ],
   "source": [
    "while True:  \n",
    "    print(\"Prompt: \\n\")\n",
    "    user_prompt = input()\n",
    "    response = process_chat_request(user_prompt)\n",
    "    print(\"Response: \\n\" + response)\n",
    "    \n",
    "    if user_prompt.lower() in [\"bye\", \"exit\", \"quit\"]:\n",
    "        break"
   ]
  }
 ],
 "metadata": {
  "kernelspec": {
   "display_name": "Python 3 (ipykernel)",
   "language": "python",
   "name": "python3"
  },
  "language_info": {
   "codemirror_mode": {
    "name": "ipython",
    "version": 3
   },
   "file_extension": ".py",
   "mimetype": "text/x-python",
   "name": "python",
   "nbconvert_exporter": "python",
   "pygments_lexer": "ipython3",
   "version": "3.9.1"
  }
 },
 "nbformat": 4,
 "nbformat_minor": 5
}
