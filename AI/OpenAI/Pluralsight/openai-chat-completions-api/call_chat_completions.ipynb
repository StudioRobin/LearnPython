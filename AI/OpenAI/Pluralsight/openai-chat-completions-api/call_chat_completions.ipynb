{
 "cells": [
  {
   "cell_type": "markdown",
   "id": "7baf32cd-8fe9-4711-9e00-5a55b1b72335",
   "metadata": {},
   "source": [
    "# Calling the Chat Completions API"
   ]
  },
  {
   "cell_type": "code",
   "execution_count": null,
   "id": "d357bc42-bc82-422f-9e89-19df11bd1bba",
   "metadata": {},
   "outputs": [],
   "source": [
    "import os\n",
    "import requests\n",
    "import json\n",
    "from pprint import pprint"
   ]
  },
  {
   "cell_type": "code",
   "execution_count": null,
   "id": "4723b2a0-83f4-4443-9f3f-70e4b6c09de0",
   "metadata": {},
   "outputs": [],
   "source": [
    "key = os.getenv('OPENAI_API_KEY')"
   ]
  },
  {
   "cell_type": "code",
   "execution_count": null,
   "id": "e12bc246-7e05-4f06-8b46-7d8a2d6fc794",
   "metadata": {},
   "outputs": [],
   "source": [
    "# Chat Completions API endpoint\n",
    "url = 'https://api.openai.com/v1/chat/completions'"
   ]
  },
  {
   "cell_type": "code",
   "execution_count": null,
   "id": "ca0bf138-50be-4731-9628-63b799e69fec",
   "metadata": {},
   "outputs": [],
   "source": [
    "prompt = \"Why is Costa Rica a good tourist destination?\""
   ]
  },
  {
   "cell_type": "code",
   "execution_count": null,
   "id": "73f785dc-f3c6-4835-8090-f593d19b37bb",
   "metadata": {},
   "outputs": [],
   "source": [
    "headers = {\n",
    "    'Content-Type': 'application/json',\n",
    "    'Authorization': f'Bearer {key}'\n",
    "}\n",
    "\n",
    "data = {\n",
    "    \"model\": \"gpt-3.5-turbo\",\n",
    "    \"messages\": [{\"role\": \"user\", \"content\": prompt}],\n",
    "    \"temperature\": 0.7\n",
    "}"
   ]
  },
  {
   "cell_type": "code",
   "execution_count": null,
   "id": "82fc61bf-ff63-461d-9234-7e6bb39fd585",
   "metadata": {},
   "outputs": [],
   "source": [
    "response = requests.post(url, headers=headers, json=data, timeout=100)\n",
    "\n",
    "if response.status_code != 200:\n",
    "    print('Request failed with status code:', response.status_code)\n",
    "\n",
    "result = response.json()"
   ]
  },
  {
   "cell_type": "code",
   "execution_count": null,
   "id": "530208f8-08b0-4662-ab56-158622a43bdf",
   "metadata": {},
   "outputs": [],
   "source": [
    "print(json.dumps(result['choices'][0]['message']['content'], indent=2))"
   ]
  },
  {
   "cell_type": "code",
   "execution_count": null,
   "id": "adf025ec-b8f1-4ef1-a450-d659c70415d9",
   "metadata": {},
   "outputs": [],
   "source": [
    "pprint(json.dumps(result))"
   ]
  }
 ],
 "metadata": {
  "kernelspec": {
   "display_name": "Python 3 (ipykernel)",
   "language": "python",
   "name": "python3"
  },
  "language_info": {
   "codemirror_mode": {
    "name": "ipython",
    "version": 3
   },
   "file_extension": ".py",
   "mimetype": "text/x-python",
   "name": "python",
   "nbconvert_exporter": "python",
   "pygments_lexer": "ipython3",
   "version": "3.12.4"
  }
 },
 "nbformat": 4,
 "nbformat_minor": 5
}
