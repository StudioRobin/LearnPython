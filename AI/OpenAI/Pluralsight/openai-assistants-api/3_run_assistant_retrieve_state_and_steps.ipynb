{
 "cells": [
  {
   "cell_type": "markdown",
   "metadata": {},
   "source": [
    "# Run Assistant and Retrieve State"
   ]
  },
  {
   "cell_type": "code",
   "execution_count": 1,
   "metadata": {},
   "outputs": [],
   "source": [
    "from openai import OpenAI\n",
    "from dotenv import load_dotenv\n",
    "import json\n",
    "import time"
   ]
  },
  {
   "cell_type": "code",
   "execution_count": 2,
   "metadata": {},
   "outputs": [
    {
     "data": {
      "text/plain": [
       "True"
      ]
     },
     "execution_count": 2,
     "metadata": {},
     "output_type": "execute_result"
    }
   ],
   "source": [
    "load_dotenv()"
   ]
  },
  {
   "cell_type": "code",
   "execution_count": 3,
   "metadata": {},
   "outputs": [],
   "source": [
    "def show_json(obj):\n",
    "    display(json.loads(obj.model_dump_json()))"
   ]
  },
  {
   "cell_type": "code",
   "execution_count": 4,
   "metadata": {},
   "outputs": [],
   "source": [
    "client = OpenAI()"
   ]
  },
  {
   "cell_type": "code",
   "execution_count": 5,
   "metadata": {},
   "outputs": [],
   "source": [
    "tg_thread_id = 'thread_1z6kGFpKk4qhFUNotZGGbc17'"
   ]
  },
  {
   "cell_type": "code",
   "execution_count": 6,
   "metadata": {},
   "outputs": [],
   "source": [
    "tg_assistant_id = 'asst_CrI8f5Ezf42pTq4fwLcGDV0q'"
   ]
  },
  {
   "cell_type": "markdown",
   "metadata": {},
   "source": [
    "**Create the Run, specifying the Assistant and the Thread ids**"
   ]
  },
  {
   "cell_type": "code",
   "execution_count": 7,
   "metadata": {},
   "outputs": [],
   "source": [
    "run = client.beta.threads.runs.create(\n",
    "    thread_id = tg_thread_id,\n",
    "    assistant_id = tg_assistant_id,\n",
    ")"
   ]
  },
  {
   "cell_type": "code",
   "execution_count": 8,
   "metadata": {},
   "outputs": [
    {
     "data": {
      "text/plain": [
       "{'id': 'run_qkARjTKayGxaljnA3ePtvbzg',\n",
       " 'assistant_id': 'asst_CrI8f5Ezf42pTq4fwLcGDV0q',\n",
       " 'cancelled_at': None,\n",
       " 'completed_at': None,\n",
       " 'created_at': 1703093878,\n",
       " 'expires_at': 1703094478,\n",
       " 'failed_at': None,\n",
       " 'file_ids': [],\n",
       " 'instructions': 'You are a personal travel assistant bot. Answer questions briefly, in a paragraph or less.',\n",
       " 'last_error': None,\n",
       " 'metadata': {},\n",
       " 'model': 'gpt-4-1106-preview',\n",
       " 'object': 'thread.run',\n",
       " 'required_action': None,\n",
       " 'started_at': None,\n",
       " 'status': 'queued',\n",
       " 'thread_id': 'thread_1z6kGFpKk4qhFUNotZGGbc17',\n",
       " 'tools': []}"
      ]
     },
     "metadata": {},
     "output_type": "display_data"
    }
   ],
   "source": [
    "show_json(run)"
   ]
  },
  {
   "cell_type": "markdown",
   "metadata": {},
   "source": [
    "**Poll the Run to get the status**"
   ]
  },
  {
   "cell_type": "code",
   "execution_count": 9,
   "metadata": {},
   "outputs": [],
   "source": [
    "def wait_on_run(run, thread_id):\n",
    "    while run.status == \"queued\" or run.status == \"in_progress\":\n",
    "        run = client.beta.threads.runs.retrieve(\n",
    "            thread_id=thread_id,\n",
    "            run_id=run.id,\n",
    "        )\n",
    "        print(run.status)\n",
    "        time.sleep(1)\n",
    "    return run"
   ]
  },
  {
   "cell_type": "code",
   "execution_count": 10,
   "metadata": {},
   "outputs": [
    {
     "name": "stdout",
     "output_type": "stream",
     "text": [
      "in_progress\n",
      "in_progress\n",
      "in_progress\n",
      "completed\n"
     ]
    }
   ],
   "source": [
    "run = wait_on_run(run, tg_thread_id)"
   ]
  },
  {
   "cell_type": "code",
   "execution_count": 11,
   "metadata": {},
   "outputs": [
    {
     "data": {
      "text/plain": [
       "{'id': 'run_qkARjTKayGxaljnA3ePtvbzg',\n",
       " 'assistant_id': 'asst_CrI8f5Ezf42pTq4fwLcGDV0q',\n",
       " 'cancelled_at': None,\n",
       " 'completed_at': 1703093896,\n",
       " 'created_at': 1703093878,\n",
       " 'expires_at': None,\n",
       " 'failed_at': None,\n",
       " 'file_ids': [],\n",
       " 'instructions': 'You are a personal travel assistant bot. Answer questions briefly, in a paragraph or less.',\n",
       " 'last_error': None,\n",
       " 'metadata': {},\n",
       " 'model': 'gpt-4-1106-preview',\n",
       " 'object': 'thread.run',\n",
       " 'required_action': None,\n",
       " 'started_at': 1703093878,\n",
       " 'status': 'completed',\n",
       " 'thread_id': 'thread_1z6kGFpKk4qhFUNotZGGbc17',\n",
       " 'tools': []}"
      ]
     },
     "metadata": {},
     "output_type": "display_data"
    }
   ],
   "source": [
    "show_json(run)"
   ]
  },
  {
   "cell_type": "markdown",
   "metadata": {},
   "source": [
    "**You can also view the Run Steps to understand what steps where taken by the assistant**"
   ]
  },
  {
   "cell_type": "code",
   "execution_count": 12,
   "metadata": {},
   "outputs": [],
   "source": [
    "run_steps = client.beta.threads.runs.steps.list(\n",
    "  thread_id=tg_thread_id,\n",
    "  run_id=run.id\n",
    ")"
   ]
  },
  {
   "cell_type": "code",
   "execution_count": 13,
   "metadata": {},
   "outputs": [
    {
     "data": {
      "text/plain": [
       "{'data': [{'id': 'step_Km3FUa44EsZF53uvHYSiQeJX',\n",
       "   'assistant_id': 'asst_CrI8f5Ezf42pTq4fwLcGDV0q',\n",
       "   'cancelled_at': None,\n",
       "   'completed_at': 1703093896,\n",
       "   'created_at': 1703093879,\n",
       "   'expired_at': None,\n",
       "   'failed_at': None,\n",
       "   'last_error': None,\n",
       "   'metadata': None,\n",
       "   'object': 'thread.run.step',\n",
       "   'run_id': 'run_qkARjTKayGxaljnA3ePtvbzg',\n",
       "   'status': 'completed',\n",
       "   'step_details': {'message_creation': {'message_id': 'msg_8I8ocklfmXbp2smRgLB3kkph'},\n",
       "    'type': 'message_creation'},\n",
       "   'thread_id': 'thread_1z6kGFpKk4qhFUNotZGGbc17',\n",
       "   'type': 'message_creation',\n",
       "   'expires_at': None}],\n",
       " 'object': 'list',\n",
       " 'first_id': 'step_Km3FUa44EsZF53uvHYSiQeJX',\n",
       " 'last_id': 'step_Km3FUa44EsZF53uvHYSiQeJX',\n",
       " 'has_more': False}"
      ]
     },
     "metadata": {},
     "output_type": "display_data"
    }
   ],
   "source": [
    "show_json(run_steps)"
   ]
  }
 ],
 "metadata": {
  "kernelspec": {
   "display_name": "Python 3 (ipykernel)",
   "language": "python",
   "name": "python3"
  },
  "language_info": {
   "codemirror_mode": {
    "name": "ipython",
    "version": 3
   },
   "file_extension": ".py",
   "mimetype": "text/x-python",
   "name": "python",
   "nbconvert_exporter": "python",
   "pygments_lexer": "ipython3",
   "version": "3.9.1"
  }
 },
 "nbformat": 4,
 "nbformat_minor": 4
}
