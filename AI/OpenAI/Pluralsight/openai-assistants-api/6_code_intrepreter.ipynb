{
 "cells": [
  {
   "cell_type": "markdown",
   "metadata": {},
   "source": [
    "# Tools: Code Intepreter"
   ]
  },
  {
   "cell_type": "code",
   "execution_count": 1,
   "metadata": {},
   "outputs": [],
   "source": [
    "from openai import OpenAI\n",
    "import json\n",
    "from dotenv import load_dotenv\n",
    "import time"
   ]
  },
  {
   "cell_type": "code",
   "execution_count": 2,
   "metadata": {},
   "outputs": [
    {
     "data": {
      "text/plain": [
       "True"
      ]
     },
     "execution_count": 2,
     "metadata": {},
     "output_type": "execute_result"
    }
   ],
   "source": [
    "load_dotenv()"
   ]
  },
  {
   "cell_type": "code",
   "execution_count": 3,
   "metadata": {},
   "outputs": [],
   "source": [
    "def show_json(obj):\n",
    "    display(json.loads(obj.model_dump_json()))"
   ]
  },
  {
   "cell_type": "code",
   "execution_count": 4,
   "metadata": {},
   "outputs": [],
   "source": [
    "client = OpenAI()"
   ]
  },
  {
   "cell_type": "markdown",
   "metadata": {},
   "source": [
    "**Define the instructions and user question**"
   ]
  },
  {
   "cell_type": "markdown",
   "metadata": {},
   "source": [
    "Instructions:\n",
    "- __You are a Python developer that is working on creating a travel app. When asked a question, write and run code to answer the question.__\n",
    "\n",
    "User question:\n",
    "- __Calculate the tip for a bill of $175. The restaurant requests 20% and we want to divide the total bill with the tip into 4 equal parts.__"
   ]
  },
  {
   "cell_type": "code",
   "execution_count": 5,
   "metadata": {},
   "outputs": [],
   "source": [
    "instructions = \"You are a Python developer that is working on creating a travel app. When asked a question, write and run code to answer the question.\""
   ]
  },
  {
   "cell_type": "code",
   "execution_count": 6,
   "metadata": {},
   "outputs": [],
   "source": [
    "user_question = \"Calculate the tip for a bill of $175. The restaurant requests 20% and we want to divide the total bill with the tip into 4 equal parts.\""
   ]
  },
  {
   "cell_type": "markdown",
   "metadata": {},
   "source": [
    "**Create Assistant enabling Code Interpreter, create Thread and Run, and execute**"
   ]
  },
  {
   "cell_type": "code",
   "execution_count": 7,
   "metadata": {},
   "outputs": [],
   "source": [
    "assistant = client.beta.assistants.create(\n",
    "  instructions=instructions,\n",
    "  model=\"gpt-4-1106-preview\",\n",
    "  tools=[{\"type\": \"code_interpreter\"}]\n",
    ")"
   ]
  },
  {
   "cell_type": "code",
   "execution_count": 8,
   "metadata": {},
   "outputs": [],
   "source": [
    "thread = client.beta.threads.create(\n",
    "  messages=[\n",
    "    {\n",
    "      \"role\": \"user\",\n",
    "      \"content\": user_question,\n",
    "    }\n",
    "  ]\n",
    ")"
   ]
  },
  {
   "cell_type": "code",
   "execution_count": 9,
   "metadata": {},
   "outputs": [],
   "source": [
    "run = client.beta.threads.runs.create(\n",
    "    thread_id=thread.id,\n",
    "    assistant_id=assistant.id,\n",
    ")"
   ]
  },
  {
   "cell_type": "code",
   "execution_count": 10,
   "metadata": {},
   "outputs": [
    {
     "name": "stdout",
     "output_type": "stream",
     "text": [
      "Run completed\n"
     ]
    }
   ],
   "source": [
    "while run.status == \"queued\" or run.status == \"in_progress\":\n",
    "        run = client.beta.threads.runs.retrieve(\n",
    "            thread_id=thread.id,\n",
    "            run_id=run.id,\n",
    "        )\n",
    "        time.sleep(0.5)\n",
    "\n",
    "print(\"Run completed\")"
   ]
  },
  {
   "cell_type": "markdown",
   "metadata": {},
   "source": [
    "**Get messages in desc order, print out last assistant response**"
   ]
  },
  {
   "cell_type": "code",
   "execution_count": 11,
   "metadata": {},
   "outputs": [],
   "source": [
    "messages = client.beta.threads.messages.list(thread_id=thread.id, order=\"desc\")"
   ]
  },
  {
   "cell_type": "markdown",
   "metadata": {},
   "source": [
    "**The Assistant created the code internally and executed in a sandbox**"
   ]
  },
  {
   "cell_type": "code",
   "execution_count": 12,
   "metadata": {},
   "outputs": [
    {
     "data": {
      "text/plain": [
       "'The tip for the bill of $175 at 20% is $35. The total bill with the tip is $210. When divided into 4 equal parts, each person would pay $52.50.'"
      ]
     },
     "execution_count": 12,
     "metadata": {},
     "output_type": "execute_result"
    }
   ],
   "source": [
    "messages.data[0].content[0].text.value"
   ]
  },
  {
   "cell_type": "markdown",
   "metadata": {},
   "source": [
    "## An example that uses a data file as source"
   ]
  },
  {
   "cell_type": "markdown",
   "metadata": {},
   "source": [
    "**Upload the file that you would like the assistant to use**"
   ]
  },
  {
   "cell_type": "code",
   "execution_count": 13,
   "metadata": {},
   "outputs": [],
   "source": [
    "travel_meals = \"travelmeals.csv\""
   ]
  },
  {
   "cell_type": "code",
   "execution_count": 14,
   "metadata": {},
   "outputs": [],
   "source": [
    "file = client.files.create(\n",
    "    file=open(\n",
    "        travel_meals,\n",
    "        \"rb\",\n",
    "    ),\n",
    "    purpose=\"assistants\",\n",
    ")"
   ]
  },
  {
   "cell_type": "code",
   "execution_count": 16,
   "metadata": {},
   "outputs": [
    {
     "name": "stdout",
     "output_type": "stream",
     "text": [
      "FileObject(id='file-YX699wYxMafpZtjK744Xm1PY', bytes=493, created_at=1703115261, filename='travelmeals.csv', object='file', purpose='assistants', status='processed', status_details=None)\n"
     ]
    }
   ],
   "source": [
    "print(file)"
   ]
  },
  {
   "cell_type": "markdown",
   "metadata": {},
   "source": [
    "**Update the assistant to include a file**\n",
    "\n",
    "_Quick note: Files can also be specified at thread level._"
   ]
  },
  {
   "cell_type": "code",
   "execution_count": 17,
   "metadata": {},
   "outputs": [],
   "source": [
    "assistant = client.beta.assistants.update(\n",
    "    assistant.id,\n",
    "    tools=[{\"type\": \"code_interpreter\"}],\n",
    "    file_ids=[file.id],\n",
    ")"
   ]
  },
  {
   "cell_type": "code",
   "execution_count": 18,
   "metadata": {},
   "outputs": [
    {
     "data": {
      "text/plain": [
       "{'id': 'asst_rK8ksDvTI1UhLvFKJSfK6wzb',\n",
       " 'created_at': 1703115223,\n",
       " 'description': None,\n",
       " 'file_ids': ['file-YX699wYxMafpZtjK744Xm1PY'],\n",
       " 'instructions': 'You are a Python developer that is working on creating a travel app. When asked a question, write and run code to answer the question.',\n",
       " 'metadata': {},\n",
       " 'model': 'gpt-4-1106-preview',\n",
       " 'name': None,\n",
       " 'object': 'assistant',\n",
       " 'tools': [{'type': 'code_interpreter'}]}"
      ]
     },
     "metadata": {},
     "output_type": "display_data"
    }
   ],
   "source": [
    "show_json(assistant)"
   ]
  },
  {
   "cell_type": "markdown",
   "metadata": {},
   "source": [
    "**A few functions to execute Runs (same code as used in previous demos)**"
   ]
  },
  {
   "cell_type": "code",
   "execution_count": 19,
   "metadata": {},
   "outputs": [],
   "source": [
    "def add_message(the_assistant_id, the_thread_id, user_message):\n",
    "    client.beta.threads.messages.create(\n",
    "        thread_id=the_thread_id, role=\"user\", content=user_message\n",
    "    )\n",
    "    return client.beta.threads.runs.create(\n",
    "        thread_id=the_thread_id,\n",
    "        assistant_id=the_assistant_id,\n",
    "    )"
   ]
  },
  {
   "cell_type": "code",
   "execution_count": 20,
   "metadata": {},
   "outputs": [],
   "source": [
    "def get_messages(the_thread_id):\n",
    "    return client.beta.threads.messages.list(thread_id=the_thread_id, order=\"desc\")"
   ]
  },
  {
   "cell_type": "code",
   "execution_count": 21,
   "metadata": {},
   "outputs": [],
   "source": [
    "def wait_for_run_completion(run, thread_id):\n",
    "    while run.status == \"queued\" or run.status == \"in_progress\":\n",
    "        run = client.beta.threads.runs.retrieve(\n",
    "            thread_id=thread_id,\n",
    "            run_id=run.id,\n",
    "        )\n",
    "        time.sleep(0.1)\n",
    "    return run"
   ]
  },
  {
   "cell_type": "code",
   "execution_count": 22,
   "metadata": {},
   "outputs": [],
   "source": [
    "def ask_question(user_message, assistant_id, thread_id):   \n",
    "    run = add_message(assistant_id, thread_id, user_message)\n",
    "    wait_for_run_completion(run, thread_id)   \n",
    "    the_response = get_messages(thread_id)\n",
    "    print(\"Assistant:\\n\" + the_response.data[0].content[0].text.value)"
   ]
  },
  {
   "cell_type": "markdown",
   "metadata": {},
   "source": [
    "def ask_question(user_message, assistant_id, thread_id):   \n",
    "    run = add_message(assistant_id, thread_id, user_message)\n",
    "    wait_for_run_completion(run, thread_id)   \n",
    "    the_response = get_messages(thread_id)\n",
    "    print(\"Assistant:\\n\" + the_response.data[0].content[0].text.value)"
   ]
  },
  {
   "cell_type": "markdown",
   "metadata": {},
   "source": [
    "**Ask for a piece of code that can run and group rows by total**"
   ]
  },
  {
   "cell_type": "code",
   "execution_count": 23,
   "metadata": {},
   "outputs": [],
   "source": [
    "user_message = \"The file travelmeals.csv contains a list of meals for the last trip of the company CEO. Write a piece of code that groups entries by the column type and create an output CSV with the totals. The first row corresponds to the header.\""
   ]
  },
  {
   "cell_type": "code",
   "execution_count": 24,
   "metadata": {},
   "outputs": [
    {
     "name": "stdout",
     "output_type": "stream",
     "text": [
      "Assistant:\n",
      "I have grouped the entries by `mealtype` and calculated the totals for the `total` and `tip` columns. The results have been saved to a new CSV file named `totals_by_mealtype.csv`. Here are the totals for each meal type:\n",
      "\n",
      "- Breakfast: $50.25 total, $5.00 tip\n",
      "- Dinner: $448.30 total, $44.50 tip\n",
      "- Lunch: $125.30 total, $12.50 tip\n",
      "\n",
      "You can download the output CSV file using the following link: [totals_by_mealtype.csv](sandbox:/mnt/data/totals_by_mealtype.csv).\n"
     ]
    }
   ],
   "source": [
    "ask_question(user_message, assistant.id, thread.id)"
   ]
  },
  {
   "cell_type": "code",
   "execution_count": 25,
   "metadata": {},
   "outputs": [
    {
     "data": {
      "text/plain": [
       "{'data': [{'id': 'msg_p3qOPC27R6ufPgLoxqrNtp7O',\n",
       "   'assistant_id': 'asst_rK8ksDvTI1UhLvFKJSfK6wzb',\n",
       "   'content': [{'text': {'annotations': [{'end_index': 458,\n",
       "        'file_path': {'file_id': 'file-P4U67eM63GrguL84xrJ1i0dr'},\n",
       "        'start_index': 418,\n",
       "        'text': 'sandbox:/mnt/data/totals_by_mealtype.csv',\n",
       "        'type': 'file_path'}],\n",
       "      'value': 'I have grouped the entries by `mealtype` and calculated the totals for the `total` and `tip` columns. The results have been saved to a new CSV file named `totals_by_mealtype.csv`. Here are the totals for each meal type:\\n\\n- Breakfast: $50.25 total, $5.00 tip\\n- Dinner: $448.30 total, $44.50 tip\\n- Lunch: $125.30 total, $12.50 tip\\n\\nYou can download the output CSV file using the following link: [totals_by_mealtype.csv](sandbox:/mnt/data/totals_by_mealtype.csv).'},\n",
       "     'type': 'text'}],\n",
       "   'created_at': 1703115359,\n",
       "   'file_ids': ['file-P4U67eM63GrguL84xrJ1i0dr'],\n",
       "   'metadata': {},\n",
       "   'object': 'thread.message',\n",
       "   'role': 'assistant',\n",
       "   'run_id': 'run_28CmtLM2AsTGoj2i6I3jC4kY',\n",
       "   'thread_id': 'thread_bUkh4zNmz2Bwm2wMMk8idMuu'},\n",
       "  {'id': 'msg_qwsPK9wKfQv0ZMXnV5tNBVcn',\n",
       "   'assistant_id': 'asst_rK8ksDvTI1UhLvFKJSfK6wzb',\n",
       "   'content': [{'text': {'annotations': [],\n",
       "      'value': \"It looks like the `mealtype` column is what we should group by. I will sum up the `total` and `tip` columns for each meal type and create an output CSV file with these totals. Before we proceed, we need to ensure that the `total` and `tip` columns are in a numeric format, as they currently seem to be stored as strings due to the dollar sign ('$'). Let's clean up these columns first and then group and sum the entries by `mealtype`.\"},\n",
       "     'type': 'text'}],\n",
       "   'created_at': 1703115344,\n",
       "   'file_ids': [],\n",
       "   'metadata': {},\n",
       "   'object': 'thread.message',\n",
       "   'role': 'assistant',\n",
       "   'run_id': 'run_28CmtLM2AsTGoj2i6I3jC4kY',\n",
       "   'thread_id': 'thread_bUkh4zNmz2Bwm2wMMk8idMuu'},\n",
       "  {'id': 'msg_4CC75oumuipXn8jFr7yqyu8k',\n",
       "   'assistant_id': None,\n",
       "   'content': [{'text': {'annotations': [],\n",
       "      'value': 'The file travelmeals.csv contains a list of meals for the last trip of the company CEO. Write a piece of code that groups entries by the column type and create an output CSV with the totals. The first row corresponds to the header.'},\n",
       "     'type': 'text'}],\n",
       "   'created_at': 1703115338,\n",
       "   'file_ids': [],\n",
       "   'metadata': {},\n",
       "   'object': 'thread.message',\n",
       "   'role': 'user',\n",
       "   'run_id': None,\n",
       "   'thread_id': 'thread_bUkh4zNmz2Bwm2wMMk8idMuu'},\n",
       "  {'id': 'msg_monf5OL8a2XSaffcyzCVeLA1',\n",
       "   'assistant_id': 'asst_rK8ksDvTI1UhLvFKJSfK6wzb',\n",
       "   'content': [{'text': {'annotations': [],\n",
       "      'value': 'The tip for the bill of $175 at 20% is $35. The total bill with the tip is $210. When divided into 4 equal parts, each person would pay $52.50.'},\n",
       "     'type': 'text'}],\n",
       "   'created_at': 1703115233,\n",
       "   'file_ids': [],\n",
       "   'metadata': {},\n",
       "   'object': 'thread.message',\n",
       "   'role': 'assistant',\n",
       "   'run_id': 'run_VfFKkVRdlpndRrqVvt7UbahI',\n",
       "   'thread_id': 'thread_bUkh4zNmz2Bwm2wMMk8idMuu'},\n",
       "  {'id': 'msg_bdsgUX7vbPS4ythfBRyicSEC',\n",
       "   'assistant_id': None,\n",
       "   'content': [{'text': {'annotations': [],\n",
       "      'value': 'Calculate the tip for a bill of $175. The restaurant requests 20% and we want to divide the total bill with the tip into 4 equal parts.'},\n",
       "     'type': 'text'}],\n",
       "   'created_at': 1703115224,\n",
       "   'file_ids': [],\n",
       "   'metadata': {},\n",
       "   'object': 'thread.message',\n",
       "   'role': 'user',\n",
       "   'run_id': None,\n",
       "   'thread_id': 'thread_bUkh4zNmz2Bwm2wMMk8idMuu'}],\n",
       " 'object': 'list',\n",
       " 'first_id': 'msg_p3qOPC27R6ufPgLoxqrNtp7O',\n",
       " 'last_id': 'msg_bdsgUX7vbPS4ythfBRyicSEC',\n",
       " 'has_more': False}"
      ]
     },
     "metadata": {},
     "output_type": "display_data"
    }
   ],
   "source": [
    "csv_messages = get_messages(thread.id)\n",
    "\n",
    "show_json(csv_messages)"
   ]
  },
  {
   "cell_type": "code",
   "execution_count": 26,
   "metadata": {},
   "outputs": [
    {
     "name": "stdout",
     "output_type": "stream",
     "text": [
      "file-P4U67eM63GrguL84xrJ1i0dr\n"
     ]
    }
   ],
   "source": [
    "csv_file = csv_messages.data[0].content[0].text.annotations[0].file_path.file_id\n",
    "\n",
    "print(csv_file)"
   ]
  },
  {
   "cell_type": "code",
   "execution_count": 27,
   "metadata": {},
   "outputs": [],
   "source": [
    "file_data = client.files.content(csv_file)"
   ]
  },
  {
   "cell_type": "code",
   "execution_count": 28,
   "metadata": {},
   "outputs": [],
   "source": [
    "file_bytes = file_data.read()"
   ]
  },
  {
   "cell_type": "code",
   "execution_count": 29,
   "metadata": {},
   "outputs": [],
   "source": [
    "with open(\"./result.csv\", \"wb\") as file:\n",
    "    file.write(file_bytes)"
   ]
  },
  {
   "cell_type": "markdown",
   "metadata": {},
   "source": [
    "**Now, let's do a graph**"
   ]
  },
  {
   "cell_type": "code",
   "execution_count": 37,
   "metadata": {},
   "outputs": [],
   "source": [
    "# A good test is to show either with matplotlib or seaborn\n",
    "user_message = \"The file travelmeals.csv contains a list of meals for the last trip of the company CEO. Write a piece of code that groups entries by the column type and create as output a pie chart that shows entries grouped by meal type. Use seaborn as graph library. The first row corresponds to the header.\""
   ]
  },
  {
   "cell_type": "code",
   "execution_count": 38,
   "metadata": {},
   "outputs": [
    {
     "data": {
      "text/plain": [
       "Run(id='run_Wklpv1WLGbe8qrAKjs7QPzev', assistant_id='asst_rK8ksDvTI1UhLvFKJSfK6wzb', cancelled_at=None, completed_at=1703115496, created_at=1703115483, expires_at=None, failed_at=None, file_ids=['file-YX699wYxMafpZtjK744Xm1PY'], instructions='You are a Python developer that is working on creating a travel app. When asked a question, write and run code to answer the question.', last_error=None, metadata={}, model='gpt-4-1106-preview', object='thread.run', required_action=None, started_at=1703115483, status='completed', thread_id='thread_bUkh4zNmz2Bwm2wMMk8idMuu', tools=[ToolAssistantToolsCode(type='code_interpreter')])"
      ]
     },
     "execution_count": 38,
     "metadata": {},
     "output_type": "execute_result"
    }
   ],
   "source": [
    "run = add_message(assistant.id, thread.id, user_message)\n",
    "wait_for_run_completion(run, thread.id) "
   ]
  },
  {
   "cell_type": "code",
   "execution_count": 39,
   "metadata": {},
   "outputs": [],
   "source": [
    "image_messages = get_messages(thread.id)"
   ]
  },
  {
   "cell_type": "code",
   "execution_count": 40,
   "metadata": {},
   "outputs": [
    {
     "name": "stdout",
     "output_type": "stream",
     "text": [
      "SyncCursorPage[ThreadMessage](data=[ThreadMessage(id='msg_iYBG4GFdDMyNtF4m3e5nAxQ1', assistant_id='asst_rK8ksDvTI1UhLvFKJSfK6wzb', content=[MessageContentImageFile(image_file=ImageFile(file_id='file-29gEEgQrA7XYej5LE36m98XL'), type='image_file'), MessageContentText(text=Text(annotations=[], value='Here is the pie chart, created using matplotlib\\'s pie function with colors from Seaborn\\'s \"pastel\" color palette, that shows the entries grouped by meal type.'), type='text')], created_at=1703115495, file_ids=[], metadata={}, object='thread.message', role='assistant', run_id='run_Wklpv1WLGbe8qrAKjs7QPzev', thread_id='thread_bUkh4zNmz2Bwm2wMMk8idMuu'), ThreadMessage(id='msg_R5hzmcqoMcc2yp1UdYBIgvhP', assistant_id=None, content=[MessageContentText(text=Text(annotations=[], value='The file travelmeals.csv contains a list of meals for the last trip of the company CEO. Write a piece of code that groups entries by the column type and create as output a pie chart that shows entries grouped by meal type. Use seaborn as graph library. The first row corresponds to the header.'), type='text')], created_at=1703115483, file_ids=[], metadata={}, object='thread.message', role='user', run_id=None, thread_id='thread_bUkh4zNmz2Bwm2wMMk8idMuu'), ThreadMessage(id='msg_vaq5G8OL7RqpzMq4jCb3Fr8S', assistant_id='asst_rK8ksDvTI1UhLvFKJSfK6wzb', content=[MessageContentImageFile(image_file=ImageFile(file_id='file-X9X4fQ8IZBOVaXEzSj7rZ86E'), type='image_file'), MessageContentText(text=Text(annotations=[], value='Here is the pie chart that shows the entries grouped by meal type. The pie chart visually represents the distribution of meal types during the last trip of the company CEO.'), type='text')], created_at=1703115447, file_ids=[], metadata={}, object='thread.message', role='assistant', run_id='run_Ysvg1p6rcHupzb91IbNuVPz3', thread_id='thread_bUkh4zNmz2Bwm2wMMk8idMuu'), ThreadMessage(id='msg_rdxJ23u1XxQfSdbJHBRxVFAn', assistant_id=None, content=[MessageContentText(text=Text(annotations=[], value='The file travelmeals.csv contains a list of meals for the last trip of the company CEO. Write a piece of code that groups entries by the column type and create as output a pie chart that shows entries grouped by meal type. Use matplotlib as graph library. The first row corresponds to the header.'), type='text')], created_at=1703115435, file_ids=[], metadata={}, object='thread.message', role='user', run_id=None, thread_id='thread_bUkh4zNmz2Bwm2wMMk8idMuu'), ThreadMessage(id='msg_p3qOPC27R6ufPgLoxqrNtp7O', assistant_id='asst_rK8ksDvTI1UhLvFKJSfK6wzb', content=[MessageContentText(text=Text(annotations=[TextAnnotationFilePath(end_index=458, file_path=TextAnnotationFilePathFilePath(file_id='file-P4U67eM63GrguL84xrJ1i0dr'), start_index=418, text='sandbox:/mnt/data/totals_by_mealtype.csv', type='file_path')], value='I have grouped the entries by `mealtype` and calculated the totals for the `total` and `tip` columns. The results have been saved to a new CSV file named `totals_by_mealtype.csv`. Here are the totals for each meal type:\\n\\n- Breakfast: $50.25 total, $5.00 tip\\n- Dinner: $448.30 total, $44.50 tip\\n- Lunch: $125.30 total, $12.50 tip\\n\\nYou can download the output CSV file using the following link: [totals_by_mealtype.csv](sandbox:/mnt/data/totals_by_mealtype.csv).'), type='text')], created_at=1703115359, file_ids=['file-P4U67eM63GrguL84xrJ1i0dr'], metadata={}, object='thread.message', role='assistant', run_id='run_28CmtLM2AsTGoj2i6I3jC4kY', thread_id='thread_bUkh4zNmz2Bwm2wMMk8idMuu'), ThreadMessage(id='msg_qwsPK9wKfQv0ZMXnV5tNBVcn', assistant_id='asst_rK8ksDvTI1UhLvFKJSfK6wzb', content=[MessageContentText(text=Text(annotations=[], value=\"It looks like the `mealtype` column is what we should group by. I will sum up the `total` and `tip` columns for each meal type and create an output CSV file with these totals. Before we proceed, we need to ensure that the `total` and `tip` columns are in a numeric format, as they currently seem to be stored as strings due to the dollar sign ('$'). Let's clean up these columns first and then group and sum the entries by `mealtype`.\"), type='text')], created_at=1703115344, file_ids=[], metadata={}, object='thread.message', role='assistant', run_id='run_28CmtLM2AsTGoj2i6I3jC4kY', thread_id='thread_bUkh4zNmz2Bwm2wMMk8idMuu'), ThreadMessage(id='msg_4CC75oumuipXn8jFr7yqyu8k', assistant_id=None, content=[MessageContentText(text=Text(annotations=[], value='The file travelmeals.csv contains a list of meals for the last trip of the company CEO. Write a piece of code that groups entries by the column type and create an output CSV with the totals. The first row corresponds to the header.'), type='text')], created_at=1703115338, file_ids=[], metadata={}, object='thread.message', role='user', run_id=None, thread_id='thread_bUkh4zNmz2Bwm2wMMk8idMuu'), ThreadMessage(id='msg_monf5OL8a2XSaffcyzCVeLA1', assistant_id='asst_rK8ksDvTI1UhLvFKJSfK6wzb', content=[MessageContentText(text=Text(annotations=[], value='The tip for the bill of $175 at 20% is $35. The total bill with the tip is $210. When divided into 4 equal parts, each person would pay $52.50.'), type='text')], created_at=1703115233, file_ids=[], metadata={}, object='thread.message', role='assistant', run_id='run_VfFKkVRdlpndRrqVvt7UbahI', thread_id='thread_bUkh4zNmz2Bwm2wMMk8idMuu'), ThreadMessage(id='msg_bdsgUX7vbPS4ythfBRyicSEC', assistant_id=None, content=[MessageContentText(text=Text(annotations=[], value='Calculate the tip for a bill of $175. The restaurant requests 20% and we want to divide the total bill with the tip into 4 equal parts.'), type='text')], created_at=1703115224, file_ids=[], metadata={}, object='thread.message', role='user', run_id=None, thread_id='thread_bUkh4zNmz2Bwm2wMMk8idMuu')], object='list', first_id='msg_iYBG4GFdDMyNtF4m3e5nAxQ1', last_id='msg_bdsgUX7vbPS4ythfBRyicSEC', has_more=False)\n"
     ]
    }
   ],
   "source": [
    "print(image_messages)"
   ]
  },
  {
   "cell_type": "code",
   "execution_count": 41,
   "metadata": {},
   "outputs": [
    {
     "name": "stdout",
     "output_type": "stream",
     "text": [
      "file-29gEEgQrA7XYej5LE36m98XL\n"
     ]
    }
   ],
   "source": [
    "image_file_id = image_messages.data[0].content[0].image_file.file_id\n",
    "\n",
    "print(image_file_id)"
   ]
  },
  {
   "cell_type": "code",
   "execution_count": 42,
   "metadata": {},
   "outputs": [],
   "source": [
    "raw_response = client.files.with_raw_response.content(file_id=image_file_id)"
   ]
  },
  {
   "cell_type": "code",
   "execution_count": 43,
   "metadata": {},
   "outputs": [],
   "source": [
    "with open(\"chart-seaborn.png\", \"wb\") as f:\n",
    "    f.write(raw_response.content)"
   ]
  }
 ],
 "metadata": {
  "kernelspec": {
   "display_name": "Python 3 (ipykernel)",
   "language": "python",
   "name": "python3"
  },
  "language_info": {
   "codemirror_mode": {
    "name": "ipython",
    "version": 3
   },
   "file_extension": ".py",
   "mimetype": "text/x-python",
   "name": "python",
   "nbconvert_exporter": "python",
   "pygments_lexer": "ipython3",
   "version": "3.9.1"
  }
 },
 "nbformat": 4,
 "nbformat_minor": 4
}
