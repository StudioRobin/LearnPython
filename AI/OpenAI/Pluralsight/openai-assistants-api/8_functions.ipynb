{
 "cells": [
  {
   "cell_type": "markdown",
   "metadata": {},
   "source": [
    "# Tools: Functions"
   ]
  },
  {
   "cell_type": "code",
   "execution_count": 1,
   "metadata": {},
   "outputs": [],
   "source": [
    "from openai import OpenAI\n",
    "from dotenv import load_dotenv\n",
    "import json\n",
    "import time\n",
    "import requests\n",
    "import os"
   ]
  },
  {
   "cell_type": "code",
   "execution_count": 2,
   "metadata": {},
   "outputs": [
    {
     "data": {
      "text/plain": [
       "True"
      ]
     },
     "execution_count": 2,
     "metadata": {},
     "output_type": "execute_result"
    }
   ],
   "source": [
    "load_dotenv()"
   ]
  },
  {
   "cell_type": "code",
   "execution_count": 3,
   "metadata": {},
   "outputs": [],
   "source": [
    "def show_json(obj):\n",
    "    display(json.loads(obj.model_dump_json()))"
   ]
  },
  {
   "cell_type": "code",
   "execution_count": 4,
   "metadata": {},
   "outputs": [],
   "source": [
    "client = OpenAI()"
   ]
  },
  {
   "cell_type": "markdown",
   "metadata": {},
   "source": [
    "**Start by defining the functions**\n",
    "\n",
    "- Location to latitude and longitude using OpenCage\n",
    "- Get weather using OpenWeather\n",
    "\n",
    "To get weather, it is required to call the function that gets latitude and longitude"
   ]
  },
  {
   "cell_type": "code",
   "execution_count": 5,
   "metadata": {},
   "outputs": [],
   "source": [
    "OPENCAGE_API_KEY = os.environ[\"OPENCAGE_API_KEY\"]\n",
    "OPENWEATHERMAP_API_KEY = os.environ[\"OPENWEATHERMAP_API_KEY\"]"
   ]
  },
  {
   "cell_type": "markdown",
   "metadata": {},
   "source": [
    "**OpenCage function**"
   ]
  },
  {
   "cell_type": "code",
   "execution_count": 6,
   "metadata": {},
   "outputs": [],
   "source": [
    "def getLatLong(location):\n",
    "    base_url = \"https://api.opencagedata.com/geocode/v1/json\"\n",
    "    params = {\n",
    "        \"q\": location,\n",
    "        \"key\": OPENCAGE_API_KEY\n",
    "    }\n",
    "\n",
    "    response = requests.get(base_url, params=params)\n",
    "    data = response.json()\n",
    "\n",
    "    if response.status_code == 200 and data.get(\"results\"):\n",
    "        lat = data[\"results\"][0][\"geometry\"][\"lat\"]\n",
    "        lon = data[\"results\"][0][\"geometry\"][\"lng\"]\n",
    "        return lat, lon\n",
    "    else:\n",
    "        return None"
   ]
  },
  {
   "cell_type": "code",
   "execution_count": 7,
   "metadata": {},
   "outputs": [
    {
     "data": {
      "text/plain": [
       "(37.7790262, -122.419906)"
      ]
     },
     "execution_count": 7,
     "metadata": {},
     "output_type": "execute_result"
    }
   ],
   "source": [
    "getLatLong(\"San Francisco, CA\")"
   ]
  },
  {
   "cell_type": "markdown",
   "metadata": {},
   "source": [
    "**OpenWeather function**"
   ]
  },
  {
   "cell_type": "code",
   "execution_count": 8,
   "metadata": {},
   "outputs": [],
   "source": [
    "def getCurrentWeather(location):\n",
    "\n",
    "    lat, lon = getLatLong(location)\n",
    "    api_key = OPENWEATHERMAP_API_KEY\n",
    "\n",
    "    base_url = \"https://api.openweathermap.org/data/2.5/weather\"\n",
    "    url = f\"{base_url}?lat={lat}&lon={lon}&units=metric&appid={api_key}\"\n",
    "\n",
    "    response = requests.get(url)\n",
    "    data = response.json()\n",
    "    if response.status_code == 200:\n",
    "        temperature = data[\"main\"][\"temp\"]\n",
    "        description = data[\"weather\"][0][\"description\"]\n",
    "        return f\"The current weather in {location} is {temperature}°C with {description}.\"\n",
    "    else:\n",
    "        return f\"Failed to get weather data. Error: {data['message']}\""
   ]
  },
  {
   "cell_type": "code",
   "execution_count": 9,
   "metadata": {},
   "outputs": [
    {
     "data": {
      "text/plain": [
       "'The current weather in San Francisco, CA is 13.51°C with overcast clouds.'"
      ]
     },
     "execution_count": 9,
     "metadata": {},
     "output_type": "execute_result"
    }
   ],
   "source": [
    "getCurrentWeather(\"San Francisco, CA\")"
   ]
  },
  {
   "cell_type": "markdown",
   "metadata": {},
   "source": [
    "**Describe function that is going to be used by the Assistant**"
   ]
  },
  {
   "cell_type": "code",
   "execution_count": 10,
   "metadata": {},
   "outputs": [],
   "source": [
    "available_functions = {\n",
    "    \"getCurrentWeather\": getCurrentWeather,\n",
    "}"
   ]
  },
  {
   "cell_type": "markdown",
   "metadata": {},
   "source": [
    "**Execute the function call**"
   ]
  },
  {
   "cell_type": "code",
   "execution_count": 11,
   "metadata": {},
   "outputs": [],
   "source": [
    "def execute_function_call(function_name,arguments):\n",
    "    function = available_functions.get(function_name,None)\n",
    "    if function:\n",
    "        arguments = json.loads(arguments)\n",
    "        results = function(**arguments)\n",
    "    else:\n",
    "        results = f\"Error: function {function_name} does not exist\"\n",
    "    return results"
   ]
  },
  {
   "cell_type": "markdown",
   "metadata": {},
   "source": [
    "**Define tools for the Assistant**"
   ]
  },
  {
   "cell_type": "code",
   "execution_count": 12,
   "metadata": {},
   "outputs": [],
   "source": [
    "tools = [\n",
    "    {\n",
    "        \"type\": \"function\",\n",
    "        \"function\": {\n",
    "        \"name\": \"getCurrentWeather\",\n",
    "        \"description\": \"Get the weather in location\",\n",
    "        \"parameters\": {\n",
    "            \"type\": \"object\",\n",
    "            \"properties\": {\n",
    "            \"location\": {\"type\": \"string\", \"description\": \"The city and state e.g. San Francisco, CA\"},\n",
    "            \"unit\": {\"type\": \"string\", \"enum\": [\"c\", \"f\"]}\n",
    "            },\n",
    "            \"required\": [\"location\"]\n",
    "        }\n",
    "        }\n",
    "    }\n",
    "]"
   ]
  },
  {
   "cell_type": "markdown",
   "metadata": {},
   "source": [
    "**Create the Assistant**"
   ]
  },
  {
   "cell_type": "code",
   "execution_count": 13,
   "metadata": {},
   "outputs": [],
   "source": [
    "assistant = client.beta.assistants.create(\n",
    "  instructions=\"You are a weather bot. Use the provided functions to answer questions.\",\n",
    "  model=\"gpt-4-1106-preview\",\n",
    "  tools=tools\n",
    ")"
   ]
  },
  {
   "cell_type": "markdown",
   "metadata": {},
   "source": [
    "**Create Message and Run**"
   ]
  },
  {
   "cell_type": "code",
   "execution_count": 14,
   "metadata": {},
   "outputs": [],
   "source": [
    "def create_message_and_run(assistant,query,thread=None):\n",
    "  if not thread:\n",
    "    thread = client.beta.threads.create()\n",
    "\n",
    "  message = client.beta.threads.messages.create(\n",
    "    thread_id=thread.id,\n",
    "    role=\"user\",\n",
    "    content=query\n",
    "  )\n",
    "  run = client.beta.threads.runs.create(\n",
    "  thread_id=thread.id,\n",
    "  assistant_id=assistant.id\n",
    "  )\n",
    "  return run,thread\n",
    "\n"
   ]
  },
  {
   "cell_type": "code",
   "execution_count": 15,
   "metadata": {},
   "outputs": [],
   "source": [
    "query = \"What's the weather in San Francisco right now?\" "
   ]
  },
  {
   "cell_type": "code",
   "execution_count": 16,
   "metadata": {},
   "outputs": [],
   "source": [
    "run,thread = create_message_and_run(assistant=assistant,query=query)"
   ]
  },
  {
   "cell_type": "markdown",
   "metadata": {},
   "source": [
    "**Process function call requirements**"
   ]
  },
  {
   "cell_type": "code",
   "execution_count": 17,
   "metadata": {},
   "outputs": [],
   "source": [
    "def get_function_details(run):\n",
    "\n",
    "  print(\"\\nrun.required_action\\n\",run.required_action)\n",
    "\n",
    "  function_name = run.required_action.submit_tool_outputs.tool_calls[0].function.name\n",
    "  arguments = run.required_action.submit_tool_outputs.tool_calls[0].function.arguments\n",
    "  function_id = run.required_action.submit_tool_outputs.tool_calls[0].id\n",
    "\n",
    "  print(f\"function_name: {function_name} and arguments: {arguments}\")\n",
    "\n",
    "  return function_name, arguments, function_id"
   ]
  },
  {
   "cell_type": "markdown",
   "metadata": {},
   "source": [
    "**Submit function response**"
   ]
  },
  {
   "cell_type": "code",
   "execution_count": 18,
   "metadata": {},
   "outputs": [],
   "source": [
    "def submit_tool_outputs(run,thread,function_id,function_response):\n",
    "    run = client.beta.threads.runs.submit_tool_outputs(\n",
    "    thread_id=thread.id,\n",
    "    run_id=run.id,\n",
    "    tool_outputs=[\n",
    "      {\n",
    "        \"tool_call_id\": function_id,\n",
    "        \"output\": str(function_response),\n",
    "      }\n",
    "    ]\n",
    "    ) \n",
    "    return run"
   ]
  },
  {
   "cell_type": "markdown",
   "metadata": {},
   "source": [
    "**Loop for continuous interaction**"
   ]
  },
  {
   "cell_type": "code",
   "execution_count": 19,
   "metadata": {},
   "outputs": [
    {
     "name": "stdout",
     "output_type": "stream",
     "text": [
      "run status requires_action\n",
      "\n",
      "run.required_action\n",
      " RequiredAction(submit_tool_outputs=RequiredActionSubmitToolOutputs(tool_calls=[RequiredActionFunctionToolCall(id='call_qwbjpiX8IEDjLzAr7CJFFZMY', function=Function(arguments='{\"location\":\"San Francisco, CA\"}', name='getCurrentWeather'), type='function')]), type='submit_tool_outputs')\n",
      "function_name: getCurrentWeather and arguments: {\"location\":\"San Francisco, CA\"}\n",
      "run status queued\n",
      "run status queued\n",
      "run status in_progress\n",
      "run status in_progress\n",
      "run status in_progress\n",
      "run status in_progress\n",
      "run status in_progress\n",
      "run status in_progress\n",
      "run status in_progress\n",
      "run status in_progress\n",
      "run status in_progress\n",
      "run status in_progress\n",
      "run status completed\n",
      "The weather in San Francisco right now is 13.44°C with overcast clouds.\n",
      "[Write STOP to exit]\n"
     ]
    },
    {
     "name": "stdin",
     "output_type": "stream",
     "text": [
      " STOP\n"
     ]
    }
   ],
   "source": [
    "while True:\n",
    "    run = client.beta.threads.runs.retrieve(thread_id=thread.id, run_id=run.id)\n",
    "    print(\"run status\", run.status)\n",
    "\n",
    "    if run.status==\"requires_action\":\n",
    "        function_name, arguments, function_id  = get_function_details(run)\n",
    "        function_response = execute_function_call(function_name,arguments)\n",
    "        run = submit_tool_outputs(run,thread,function_id,function_response)\n",
    "        continue\n",
    "\n",
    "    if run.status==\"completed\":\n",
    "        messages = client.beta.threads.messages.list(thread_id=thread.id)\n",
    "        latest_message = messages.data[0]\n",
    "        text = latest_message.content[0].text.value\n",
    "        print(text)\n",
    "\n",
    "        print(\"[Write STOP to exit]\")\n",
    "        user_input = input()\n",
    "        if user_input == \"STOP\":\n",
    "          break\n",
    "\n",
    "        run,thread = create_message_and_run(assistant=assistant,query=user_input,thread=thread)\n",
    "\n",
    "        continue"
   ]
  }
 ],
 "metadata": {
  "kernelspec": {
   "display_name": "Python 3 (ipykernel)",
   "language": "python",
   "name": "python3"
  },
  "language_info": {
   "codemirror_mode": {
    "name": "ipython",
    "version": 3
   },
   "file_extension": ".py",
   "mimetype": "text/x-python",
   "name": "python",
   "nbconvert_exporter": "python",
   "pygments_lexer": "ipython3",
   "version": "3.9.1"
  }
 },
 "nbformat": 4,
 "nbformat_minor": 4
}
