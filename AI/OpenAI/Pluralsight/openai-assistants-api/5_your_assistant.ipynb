{
 "cells": [
  {
   "cell_type": "markdown",
   "metadata": {},
   "source": [
    "# Have a Conversation with you AI Assistant"
   ]
  },
  {
   "cell_type": "code",
   "execution_count": 1,
   "metadata": {},
   "outputs": [],
   "source": [
    "from openai import OpenAI\n",
    "from dotenv import load_dotenv\n",
    "import json\n",
    "import time"
   ]
  },
  {
   "cell_type": "code",
   "execution_count": 2,
   "metadata": {},
   "outputs": [
    {
     "data": {
      "text/plain": [
       "True"
      ]
     },
     "execution_count": 2,
     "metadata": {},
     "output_type": "execute_result"
    }
   ],
   "source": [
    "load_dotenv()"
   ]
  },
  {
   "cell_type": "code",
   "execution_count": 3,
   "metadata": {},
   "outputs": [],
   "source": [
    "def show_json(obj):\n",
    "    display(json.loads(obj.model_dump_json()))"
   ]
  },
  {
   "cell_type": "code",
   "execution_count": 4,
   "metadata": {},
   "outputs": [],
   "source": [
    "client = OpenAI()"
   ]
  },
  {
   "cell_type": "code",
   "execution_count": 6,
   "metadata": {},
   "outputs": [],
   "source": [
    "def add_message(the_assistant_id, the_thread_id, user_message):\n",
    "    client.beta.threads.messages.create(\n",
    "        thread_id=the_thread_id, role=\"user\", content=user_message\n",
    "    )\n",
    "    return client.beta.threads.runs.create(\n",
    "        thread_id=the_thread_id,\n",
    "        assistant_id=the_assistant_id,\n",
    "    )"
   ]
  },
  {
   "cell_type": "code",
   "execution_count": 7,
   "metadata": {},
   "outputs": [],
   "source": [
    "def get_messages(the_thread_id):\n",
    "    return client.beta.threads.messages.list(thread_id=the_thread_id, order=\"desc\")"
   ]
  },
  {
   "cell_type": "code",
   "execution_count": 8,
   "metadata": {},
   "outputs": [],
   "source": [
    "def print_messages(messages):\n",
    "    print(\"# Messages\")\n",
    "    for m in messages:\n",
    "        print(f\"[{m.role}]: {m.content[0].text.value}\")\n",
    "        if(m.role==\"assistant\"):\n",
    "            print(\"-------------------------------------------\")\n",
    "    print()"
   ]
  },
  {
   "cell_type": "code",
   "execution_count": 9,
   "metadata": {},
   "outputs": [],
   "source": [
    "def wait_for_run_completion(run, thread_id):\n",
    "    while run.status == \"queued\" or run.status == \"in_progress\":\n",
    "        run = client.beta.threads.runs.retrieve(\n",
    "            thread_id=thread_id,\n",
    "            run_id=run.id,\n",
    "        )\n",
    "        time.sleep(0.1)\n",
    "    return run"
   ]
  },
  {
   "cell_type": "code",
   "execution_count": 10,
   "metadata": {},
   "outputs": [],
   "source": [
    "def ask_question(user_message, assistant_id, thread_id):   \n",
    "    run = add_message(assistant_id, thread_id, user_message)\n",
    "    wait_for_run_completion(run, thread_id)   \n",
    "    the_response = get_messages(thread_id)\n",
    "    print(\"Assistant:\\n\" + the_response.data[0].content[0].text.value)"
   ]
  },
  {
   "cell_type": "code",
   "execution_count": 11,
   "metadata": {},
   "outputs": [],
   "source": [
    "tg_thread_id = 'thread_1z6kGFpKk4qhFUNotZGGbc17'"
   ]
  },
  {
   "cell_type": "code",
   "execution_count": 12,
   "metadata": {},
   "outputs": [],
   "source": [
    "tg_assistant_id = 'asst_CrI8f5Ezf42pTq4fwLcGDV0q'"
   ]
  },
  {
   "cell_type": "code",
   "execution_count": 14,
   "metadata": {},
   "outputs": [
    {
     "name": "stdout",
     "output_type": "stream",
     "text": [
      "\n",
      "> Ask the AI Assistant a question:\n"
     ]
    },
    {
     "name": "stdin",
     "output_type": "stream",
     "text": [
      " What is my name?\n"
     ]
    },
    {
     "name": "stdout",
     "output_type": "stream",
     "text": [
      "Assistant:\n",
      "As an AI, I don't have access to personal information such as your name unless you provide it during our conversation. You haven't mentioned your name, so I don't know what it is. If you'd like personalized assistance, please let me know your name, and I'll address you accordingly!\n",
      "\n",
      "> Ask the AI Assistant a question:\n"
     ]
    },
    {
     "name": "stdin",
     "output_type": "stream",
     "text": [
      " My name is Xavier\n"
     ]
    },
    {
     "name": "stdout",
     "output_type": "stream",
     "text": [
      "Assistant:\n",
      "Nice to meet you, Xavier! If you have any questions or need further assistance, feel free to ask. I'm here to help.\n",
      "\n",
      "> Ask the AI Assistant a question:\n"
     ]
    },
    {
     "name": "stdin",
     "output_type": "stream",
     "text": [
      " What is my name?\n"
     ]
    },
    {
     "name": "stdout",
     "output_type": "stream",
     "text": [
      "Assistant:\n",
      "Your name is Xavier, as you just informed me. If you have any more questions or if there's anything else I can assist you with, Xavier, please let me know!\n",
      "\n",
      "> Ask the AI Assistant a question:\n"
     ]
    },
    {
     "name": "stdin",
     "output_type": "stream",
     "text": [
      " bye\n"
     ]
    },
    {
     "name": "stdout",
     "output_type": "stream",
     "text": [
      "Assistant:\n",
      "Goodbye, Xavier! If you ever need assistance again, don't hesitate to reach out. Have a great day!\n"
     ]
    }
   ],
   "source": [
    "while True:  \n",
    "    print(\"\\n> Ask the AI Assistant a question:\")\n",
    "    user_prompt = input()\n",
    "    ask_question(user_prompt, tg_assistant_id, tg_thread_id)\n",
    "    if user_prompt.lower() in [\"bye\", \"exit\", \"quit\"]:\n",
    "            break"
   ]
  },
  {
   "cell_type": "code",
   "execution_count": 15,
   "metadata": {},
   "outputs": [
    {
     "name": "stdout",
     "output_type": "stream",
     "text": [
      "# Messages\n",
      "[assistant]: Goodbye, Xavier! If you ever need assistance again, don't hesitate to reach out. Have a great day!\n",
      "-------------------------------------------\n",
      "[user]: bye\n",
      "[assistant]: Your name is Xavier, as you just informed me. If you have any more questions or if there's anything else I can assist you with, Xavier, please let me know!\n",
      "-------------------------------------------\n",
      "[user]: What is my name?\n",
      "[assistant]: Nice to meet you, Xavier! If you have any questions or need further assistance, feel free to ask. I'm here to help.\n",
      "-------------------------------------------\n",
      "[user]: My name is Xavier\n",
      "[assistant]: As an AI, I don't have access to personal information such as your name unless you provide it during our conversation. You haven't mentioned your name, so I don't know what it is. If you'd like personalized assistance, please let me know your name, and I'll address you accordingly!\n",
      "-------------------------------------------\n",
      "[user]: What is my name?\n",
      "[assistant]: Goodbye! If you have more questions in the future or need assistance, feel free to reach out. Enjoy your travels!\n",
      "-------------------------------------------\n",
      "[user]: bye\n",
      "[assistant]: Costa Rica is home to numerous beautiful beach towns, each with its own charm and atmosphere. Here are a few of the best beach towns that cater to different tastes and preferences:\n",
      "\n",
      "1. Tamarindo: This bustling town on the Pacific Coast is a haven for surfers and party-goers, with a vibrant nightlife and a wide range of restaurants and shops.\n",
      "\n",
      "2. Santa Teresa: Known for its laid-back vibe and excellent surf breaks, Santa Teresa attracts a bohemian crowd and offers a mix of yoga retreats, boutique accommodations, and international cuisine alongside local flavors.\n",
      "\n",
      "3. Jacó: Conveniently located near San José, Jacó is a lively town with a strong surf culture, nightlife, casinos, and plenty of dining options. It's also close to the stunning Playa Hermosa.\n",
      "\n",
      "4. Manuel Antonio: Home to Manuel Antonio National Park, this town offers gorgeous beaches, abundant wildlife, and luxury resorts, making it ideal for both adventure and relaxation.\n",
      "\n",
      "5. Dominical: A favorite among backpackers and surfers, Dominical has a more rustic and less developed charm, providing an authentic Costa Rican beach experience.\n",
      "\n",
      "6. Puerto Viejo de Talamanca: Located on the Caribbean side, Puerto Viejo is known for its unique Afro-Caribbean culture, stunning beaches like Playa Cocles, and lush surroundings.\n",
      "\n",
      "7. Nosara: Famous for its yoga retreats and pristine beaches, particularly Playa Guiones, Nosara is also one of the country's top surf spots, with an emphasis on wellness and eco-friendliness.\n",
      "\n",
      "8. Montezuma: This small and quirky town on the Nicoya Peninsula is popular with backpackers and offers a mix of natural waterfalls, secluded beaches, and a laid-back atmosphere.\n",
      "\n",
      "Each of these towns has a distinct flavor and caters to different types of travelers, from those looking for nightlife and adventure to those wanting to unwind in a serene tropical setting. When choosing the best beach town for your visit, consider what activities and atmosphere you're looking for to ensure the perfect match for your vacation style.\n",
      "-------------------------------------------\n",
      "[user]: Which are the best beach towns?\n",
      "[assistant]: Monteverde offers a variety of dining options blending local and international cuisine. Some of the best restaurants you might want to try include:\n",
      "\n",
      "1. Tree House Restaurant & Cafe - A unique dining experience set in a large ficus tree, known for its ambiance and a mix of Costa Rican and international dishes.\n",
      "2. Restaurante Celajes at Hotel Belmar - Offers farm-to-table dining with a menu that features fresh, local ingredients, providing both delicious food and panoramic views.\n",
      "3. Tramonti - Renowned for its Italian cuisine, especially its pizzas and pastas, made with a Costa Rican twist and using fresh, local ingredients.\n",
      "4. Curi-Cancha Refuge – This reserve has a café that offers light meals and snacks, perfect for a lunch break during your bird watching or hiking activities.\n",
      "5. Morpho's Restaurant - Popular for its typical Costa Rican dishes and its friendly atmosphere, located in the heart of Santa Elena.\n",
      "6. The Green Restaurant - Located at Monteverde Lodge & Gardens, this restaurant emphasizes fresh, local, and sustainable ingredients with a seasonal menu.\n",
      "\n",
      "While these are only a few suggestions, Monteverde has much more to offer in terms of dining experiences. Don't hesitate to ask locals for their current favorites, as new and exciting eateries can open up that gain popularity quickly.\n",
      "-------------------------------------------\n",
      "[user]: What are the best restaurants in Monteverde?\n",
      "[assistant]: To enjoy your trip to Costa Rica to the fullest, embrace the pura vida lifestyle by exploring its diverse ecosystems, adventure activities, and cultural experiences. Start with a visit to the Arenal Volcano area for hot springs and hikes with breathtaking views of the active volcano. Venture into Monteverde Cloud Forest Reserve for zip-lining and a chance to see unique wildlife. Don't miss the chance to visit one of the many beautiful beaches; for surfing, head to Tamarindo or Santa Teresa, and for a more relaxed vibe, try Manuel Antonio National Park, which couples white sand beaches with rich biodiversity.\n",
      "\n",
      "Explore the abundant wildlife by going on a guided rainforest tour or a night walk, where you might spot sloths, monkeys, and colorful birds, including the resplendent quetzal. Coffee lovers should consider a coffee plantation tour in the Central Valley to learn about the process from bean to cup. For a taste of local life, visit the farmers' markets, try Costa Rican cuisine like gallo pinto, and interact with the friendly locals. Remember to plan your activities around the rainy season (May to November), although the exact timing can vary by region. Always practice eco-friendly tourism to help preserve the natural beauty of Costa Rica.\n",
      "-------------------------------------------\n",
      "[user]: I am visiting Costa Rica. Make the best suggestions possible to enjoy the trip.\n",
      "\n"
     ]
    }
   ],
   "source": [
    "all_messages = get_messages(tg_thread_id)\n",
    "print_messages(all_messages)"
   ]
  }
 ],
 "metadata": {
  "kernelspec": {
   "display_name": "Python 3 (ipykernel)",
   "language": "python",
   "name": "python3"
  },
  "language_info": {
   "codemirror_mode": {
    "name": "ipython",
    "version": 3
   },
   "file_extension": ".py",
   "mimetype": "text/x-python",
   "name": "python",
   "nbconvert_exporter": "python",
   "pygments_lexer": "ipython3",
   "version": "3.9.1"
  }
 },
 "nbformat": 4,
 "nbformat_minor": 4
}
