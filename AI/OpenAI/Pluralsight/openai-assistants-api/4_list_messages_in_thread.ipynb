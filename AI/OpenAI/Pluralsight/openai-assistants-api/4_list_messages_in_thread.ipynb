{
 "cells": [
  {
   "cell_type": "markdown",
   "metadata": {},
   "source": [
    "# Display Assistant Response and List Messages in Thread "
   ]
  },
  {
   "cell_type": "code",
   "execution_count": 1,
   "metadata": {},
   "outputs": [],
   "source": [
    "from openai import OpenAI\n",
    "from dotenv import load_dotenv\n",
    "import json\n",
    "import time"
   ]
  },
  {
   "cell_type": "code",
   "execution_count": 2,
   "metadata": {},
   "outputs": [
    {
     "data": {
      "text/plain": [
       "True"
      ]
     },
     "execution_count": 2,
     "metadata": {},
     "output_type": "execute_result"
    }
   ],
   "source": [
    "load_dotenv()"
   ]
  },
  {
   "cell_type": "code",
   "execution_count": 3,
   "metadata": {},
   "outputs": [],
   "source": [
    "def show_json(obj):\n",
    "    display(json.loads(obj.model_dump_json()))"
   ]
  },
  {
   "cell_type": "code",
   "execution_count": 4,
   "metadata": {},
   "outputs": [],
   "source": [
    "client = OpenAI()"
   ]
  },
  {
   "cell_type": "code",
   "execution_count": 5,
   "metadata": {},
   "outputs": [],
   "source": [
    "tg_assistant_id = 'asst_CrI8f5Ezf42pTq4fwLcGDV0q'"
   ]
  },
  {
   "cell_type": "code",
   "execution_count": 6,
   "metadata": {},
   "outputs": [],
   "source": [
    "tg_thread_id = 'thread_1z6kGFpKk4qhFUNotZGGbc17'"
   ]
  },
  {
   "cell_type": "code",
   "execution_count": 7,
   "metadata": {},
   "outputs": [],
   "source": [
    "tg_run_id = 'run_qkARjTKayGxaljnA3ePtvbzg'"
   ]
  },
  {
   "cell_type": "code",
   "execution_count": 8,
   "metadata": {},
   "outputs": [],
   "source": [
    "run = client.beta.threads.runs.retrieve(tg_run_id, thread_id = tg_thread_id)"
   ]
  },
  {
   "cell_type": "code",
   "execution_count": 9,
   "metadata": {},
   "outputs": [
    {
     "data": {
      "text/plain": [
       "{'id': 'run_qkARjTKayGxaljnA3ePtvbzg',\n",
       " 'assistant_id': 'asst_CrI8f5Ezf42pTq4fwLcGDV0q',\n",
       " 'cancelled_at': None,\n",
       " 'completed_at': 1703093896,\n",
       " 'created_at': 1703093878,\n",
       " 'expires_at': None,\n",
       " 'failed_at': None,\n",
       " 'file_ids': [],\n",
       " 'instructions': 'You are a personal travel assistant bot. Answer questions briefly, in a paragraph or less.',\n",
       " 'last_error': None,\n",
       " 'metadata': {},\n",
       " 'model': 'gpt-4-1106-preview',\n",
       " 'object': 'thread.run',\n",
       " 'required_action': None,\n",
       " 'started_at': 1703093878,\n",
       " 'status': 'completed',\n",
       " 'thread_id': 'thread_1z6kGFpKk4qhFUNotZGGbc17',\n",
       " 'tools': []}"
      ]
     },
     "metadata": {},
     "output_type": "display_data"
    }
   ],
   "source": [
    "show_json(run)"
   ]
  },
  {
   "cell_type": "code",
   "execution_count": 14,
   "metadata": {},
   "outputs": [],
   "source": [
    "messages = client.beta.threads.messages.list(thread_id=tg_thread_id, order=\"asc\")"
   ]
  },
  {
   "cell_type": "code",
   "execution_count": 15,
   "metadata": {},
   "outputs": [
    {
     "data": {
      "text/plain": [
       "{'data': [{'id': 'msg_jLRlCCtUYGpI70Nn24cQTbIJ',\n",
       "   'assistant_id': None,\n",
       "   'content': [{'text': {'annotations': [],\n",
       "      'value': 'I am visiting Costa Rica. Make the best suggestions possible to enjoy the trip.'},\n",
       "     'type': 'text'}],\n",
       "   'created_at': 1703089178,\n",
       "   'file_ids': [],\n",
       "   'metadata': {},\n",
       "   'object': 'thread.message',\n",
       "   'role': 'user',\n",
       "   'run_id': None,\n",
       "   'thread_id': 'thread_1z6kGFpKk4qhFUNotZGGbc17'},\n",
       "  {'id': 'msg_8I8ocklfmXbp2smRgLB3kkph',\n",
       "   'assistant_id': 'asst_CrI8f5Ezf42pTq4fwLcGDV0q',\n",
       "   'content': [{'text': {'annotations': [],\n",
       "      'value': \"To enjoy your trip to Costa Rica to the fullest, embrace the pura vida lifestyle by exploring its diverse ecosystems, adventure activities, and cultural experiences. Start with a visit to the Arenal Volcano area for hot springs and hikes with breathtaking views of the active volcano. Venture into Monteverde Cloud Forest Reserve for zip-lining and a chance to see unique wildlife. Don't miss the chance to visit one of the many beautiful beaches; for surfing, head to Tamarindo or Santa Teresa, and for a more relaxed vibe, try Manuel Antonio National Park, which couples white sand beaches with rich biodiversity.\\n\\nExplore the abundant wildlife by going on a guided rainforest tour or a night walk, where you might spot sloths, monkeys, and colorful birds, including the resplendent quetzal. Coffee lovers should consider a coffee plantation tour in the Central Valley to learn about the process from bean to cup. For a taste of local life, visit the farmers' markets, try Costa Rican cuisine like gallo pinto, and interact with the friendly locals. Remember to plan your activities around the rainy season (May to November), although the exact timing can vary by region. Always practice eco-friendly tourism to help preserve the natural beauty of Costa Rica.\"},\n",
       "     'type': 'text'}],\n",
       "   'created_at': 1703093879,\n",
       "   'file_ids': [],\n",
       "   'metadata': {},\n",
       "   'object': 'thread.message',\n",
       "   'role': 'assistant',\n",
       "   'run_id': 'run_qkARjTKayGxaljnA3ePtvbzg',\n",
       "   'thread_id': 'thread_1z6kGFpKk4qhFUNotZGGbc17'}],\n",
       " 'object': 'list',\n",
       " 'first_id': 'msg_jLRlCCtUYGpI70Nn24cQTbIJ',\n",
       " 'last_id': 'msg_8I8ocklfmXbp2smRgLB3kkph',\n",
       " 'has_more': False}"
      ]
     },
     "metadata": {},
     "output_type": "display_data"
    }
   ],
   "source": [
    "show_json(messages)"
   ]
  },
  {
   "cell_type": "code",
   "execution_count": 13,
   "metadata": {},
   "outputs": [
    {
     "name": "stdout",
     "output_type": "stream",
     "text": [
      "To enjoy your trip to Costa Rica to the fullest, embrace the pura vida lifestyle by exploring its diverse ecosystems, adventure activities, and cultural experiences. Start with a visit to the Arenal Volcano area for hot springs and hikes with breathtaking views of the active volcano. Venture into Monteverde Cloud Forest Reserve for zip-lining and a chance to see unique wildlife. Don't miss the chance to visit one of the many beautiful beaches; for surfing, head to Tamarindo or Santa Teresa, and for a more relaxed vibe, try Manuel Antonio National Park, which couples white sand beaches with rich biodiversity.\n",
      "\n",
      "Explore the abundant wildlife by going on a guided rainforest tour or a night walk, where you might spot sloths, monkeys, and colorful birds, including the resplendent quetzal. Coffee lovers should consider a coffee plantation tour in the Central Valley to learn about the process from bean to cup. For a taste of local life, visit the farmers' markets, try Costa Rican cuisine like gallo pinto, and interact with the friendly locals. Remember to plan your activities around the rainy season (May to November), although the exact timing can vary by region. Always practice eco-friendly tourism to help preserve the natural beauty of Costa Rica.\n"
     ]
    }
   ],
   "source": [
    "print(messages.data[0].content[0].text.value)"
   ]
  },
  {
   "cell_type": "code",
   "execution_count": 16,
   "metadata": {},
   "outputs": [],
   "source": [
    "with open('messages.json', 'w') as pf:\n",
    "    pf.write(str(json.loads(messages.model_dump_json())))"
   ]
  }
 ],
 "metadata": {
  "kernelspec": {
   "display_name": "Python 3 (ipykernel)",
   "language": "python",
   "name": "python3"
  },
  "language_info": {
   "codemirror_mode": {
    "name": "ipython",
    "version": 3
   },
   "file_extension": ".py",
   "mimetype": "text/x-python",
   "name": "python",
   "nbconvert_exporter": "python",
   "pygments_lexer": "ipython3",
   "version": "3.9.1"
  }
 },
 "nbformat": 4,
 "nbformat_minor": 4
}
